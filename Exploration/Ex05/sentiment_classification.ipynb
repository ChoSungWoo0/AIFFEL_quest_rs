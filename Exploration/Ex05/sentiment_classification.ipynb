{
 "cells": [
  {
   "cell_type": "markdown",
   "metadata": {},
   "source": [
    "# 6-1. 프로젝트 : 네이버 영화리뷰 감성분석 도전하기\n",
    "\n",
    "* 활용 데이터셋 : 네이버 영화의 댓글을 모아 구성된 Naver sentiment movie corpus"
   ]
  },
  {
   "cell_type": "markdown",
   "metadata": {},
   "source": [
    "1) 데이터 준비와 확인"
   ]
  },
  {
   "cell_type": "code",
   "execution_count": 2,
   "metadata": {},
   "outputs": [
    {
     "name": "stdout",
     "output_type": "stream",
     "text": [
      "2.0.3\n",
      "0.5.2\n",
      "4.1.2\n"
     ]
    }
   ],
   "source": [
    "import pandas\n",
    "import konlpy\n",
    "import gensim\n",
    "\n",
    "print(pandas.__version__)\n",
    "print(konlpy.__version__)\n",
    "print(gensim.__version__)"
   ]
  },
  {
   "cell_type": "code",
   "execution_count": 4,
   "metadata": {},
   "outputs": [
    {
     "data": {
      "text/html": [
       "<div>\n",
       "<style scoped>\n",
       "    .dataframe tbody tr th:only-of-type {\n",
       "        vertical-align: middle;\n",
       "    }\n",
       "\n",
       "    .dataframe tbody tr th {\n",
       "        vertical-align: top;\n",
       "    }\n",
       "\n",
       "    .dataframe thead th {\n",
       "        text-align: right;\n",
       "    }\n",
       "</style>\n",
       "<table border=\"1\" class=\"dataframe\">\n",
       "  <thead>\n",
       "    <tr style=\"text-align: right;\">\n",
       "      <th></th>\n",
       "      <th>id</th>\n",
       "      <th>document</th>\n",
       "      <th>label</th>\n",
       "    </tr>\n",
       "  </thead>\n",
       "  <tbody>\n",
       "    <tr>\n",
       "      <th>0</th>\n",
       "      <td>9976970</td>\n",
       "      <td>아 더빙.. 진짜 짜증나네요 목소리</td>\n",
       "      <td>0</td>\n",
       "    </tr>\n",
       "    <tr>\n",
       "      <th>1</th>\n",
       "      <td>3819312</td>\n",
       "      <td>흠...포스터보고 초딩영화줄....오버연기조차 가볍지 않구나</td>\n",
       "      <td>1</td>\n",
       "    </tr>\n",
       "    <tr>\n",
       "      <th>2</th>\n",
       "      <td>10265843</td>\n",
       "      <td>너무재밓었다그래서보는것을추천한다</td>\n",
       "      <td>0</td>\n",
       "    </tr>\n",
       "    <tr>\n",
       "      <th>3</th>\n",
       "      <td>9045019</td>\n",
       "      <td>교도소 이야기구먼 ..솔직히 재미는 없다..평점 조정</td>\n",
       "      <td>0</td>\n",
       "    </tr>\n",
       "    <tr>\n",
       "      <th>4</th>\n",
       "      <td>6483659</td>\n",
       "      <td>사이몬페그의 익살스런 연기가 돋보였던 영화!스파이더맨에서 늙어보이기만 했던 커스틴 ...</td>\n",
       "      <td>1</td>\n",
       "    </tr>\n",
       "  </tbody>\n",
       "</table>\n",
       "</div>"
      ],
      "text/plain": [
       "         id                                           document  label\n",
       "0   9976970                                아 더빙.. 진짜 짜증나네요 목소리      0\n",
       "1   3819312                  흠...포스터보고 초딩영화줄....오버연기조차 가볍지 않구나      1\n",
       "2  10265843                                  너무재밓었다그래서보는것을추천한다      0\n",
       "3   9045019                      교도소 이야기구먼 ..솔직히 재미는 없다..평점 조정      0\n",
       "4   6483659  사이몬페그의 익살스런 연기가 돋보였던 영화!스파이더맨에서 늙어보이기만 했던 커스틴 ...      1"
      ]
     },
     "execution_count": 4,
     "metadata": {},
     "output_type": "execute_result"
    }
   ],
   "source": [
    "import pandas as pd\n",
    "\n",
    "# 데이터를 읽어봅시다. \n",
    "train_data = pd.read_table('./data/ratings_train.txt')\n",
    "test_data = pd.read_table('./data/ratings_test.txt')\n",
    "\n",
    "train_data.head()"
   ]
  },
  {
   "cell_type": "markdown",
   "metadata": {},
   "source": [
    "2) 데이터로더 구성"
   ]
  },
  {
   "cell_type": "code",
   "execution_count": 5,
   "metadata": {},
   "outputs": [],
   "source": [
    "from konlpy.tag import Mecab\n",
    "import numpy as np\n",
    "from collections import Counter\n",
    "\n",
    "tokenizer = Mecab(dicpath='/usr/local/lib/mecab/dic/mecab-ko-dic')\n",
    "stopwords = ['의','가','이','은','들','는','좀','잘','걍','과','도','를','으로','자','에','와','한','하다']\n",
    "\n",
    "def load_data(train_data, test_data, num_words=10000):\n",
    "    train_data.drop_duplicates(subset=['document'], inplace=True)\n",
    "    train_data = train_data.dropna(how = 'any') \n",
    "    test_data.drop_duplicates(subset=['document'], inplace=True)\n",
    "    test_data = test_data.dropna(how = 'any') \n",
    "    \n",
    "    X_train = []\n",
    "    for sentence in train_data['document']:\n",
    "        temp_X = tokenizer.morphs(sentence) # 토큰화\n",
    "        temp_X = [word for word in temp_X if not word in stopwords] # 불용어 제거\n",
    "        X_train.append(temp_X)\n",
    "\n",
    "    X_test = []\n",
    "    for sentence in test_data['document']:\n",
    "        temp_X = tokenizer.morphs(sentence) # 토큰화\n",
    "        temp_X = [word for word in temp_X if not word in stopwords] # 불용어 제거\n",
    "        X_test.append(temp_X)\n",
    "    \n",
    "    words = np.concatenate(X_train).tolist()\n",
    "    counter = Counter(words)\n",
    "    counter = counter.most_common(10000-4)\n",
    "    vocab = [\"<PAD>\", \"<BOS>\", \"<UNK>\", \"<UNUSED>\"] + [key for key, _ in counter]\n",
    "    word_to_index = {word:index for index, word in enumerate(vocab)}\n",
    "        \n",
    "    def wordlist_to_indexlist(wordlist):\n",
    "        return [word_to_index[word] if word in word_to_index else word_to_index[\"<UNK>\"] for word in wordlist]\n",
    "        \n",
    "    X_train = list(map(wordlist_to_indexlist, X_train))\n",
    "    X_test = list(map(wordlist_to_indexlist, X_test))\n",
    "        \n",
    "    return X_train, np.array(list(train_data['label'])), X_test, np.array(list(test_data['label'])), word_to_index\n",
    "    \n",
    "X_train, y_train, X_test, y_test, word_to_index = load_data(train_data, test_data)\n",
    "\n",
    "X_train, y_train, X_test, y_test, word_to_index = load_data(train_data, test_data)"
   ]
  },
  {
   "cell_type": "code",
   "execution_count": 6,
   "metadata": {},
   "outputs": [],
   "source": [
    "index_to_word = {index:word for word, index in word_to_index.items()}"
   ]
  },
  {
   "cell_type": "code",
   "execution_count": 7,
   "metadata": {},
   "outputs": [],
   "source": [
    "# 문장 1개를 활용할 딕셔너리와 함께 주면, 단어 인덱스 리스트 벡터로 변환해 주는 함수입니다. \n",
    "# 단, 모든 문장은 <BOS>로 시작하는 것으로 합니다. \n",
    "def get_encoded_sentence(sentence, word_to_index):\n",
    "    return [word_to_index['<BOS>']]+[word_to_index[word] if word in word_to_index else word_to_index['<UNK>'] for word in sentence.split()]\n",
    "\n",
    "# 여러 개의 문장 리스트를 한꺼번에 단어 인덱스 리스트 벡터로 encode해 주는 함수입니다. \n",
    "def get_encoded_sentences(sentences, word_to_index):\n",
    "    return [get_encoded_sentence(sentence, word_to_index) for sentence in sentences]\n",
    "\n",
    "# 숫자 벡터로 encode된 문장을 원래대로 decode하는 함수입니다. \n",
    "def get_decoded_sentence(encoded_sentence, index_to_word):\n",
    "    return ' '.join(index_to_word[index] if index in index_to_word else '<UNK>' for index in encoded_sentence[1:])  #[1:]를 통해 <BOS>를 제외\n",
    "\n",
    "# 여러 개의 숫자 벡터로 encode된 문장을 한꺼번에 원래대로 decode하는 함수입니다. \n",
    "def get_decoded_sentences(encoded_sentences, index_to_word):\n",
    "    return [get_decoded_sentence(encoded_sentence, index_to_word) for encoded_sentence in encoded_sentences]"
   ]
  },
  {
   "cell_type": "markdown",
   "metadata": {},
   "source": [
    "3) 모델 구성을 위한 데이터 분석 및 가공\n",
    "\n",
    "데이터셋 내 문장 길이 분포\n",
    "\n",
    "적절한 최대 문장 길이 지정\n",
    "\n",
    "keras.preprocessing.sequence.pad_sequences 을 활용한 패딩 추가"
   ]
  },
  {
   "cell_type": "code",
   "execution_count": 8,
   "metadata": {},
   "outputs": [
    {
     "name": "stdout",
     "output_type": "stream",
     "text": [
      "문장길이 평균 :  15.971024731364448\n",
      "문장길이 최대 :  116\n",
      "문장길이 표준편차 :  12.844098490466033\n",
      "pad_sequences maxlen :  48\n",
      "전체 문장의 0.9548682034821515%가 maxlen 설정값 이내에 포함됩니다. \n"
     ]
    }
   ],
   "source": [
    "total_data_text = list(X_train) + list(X_test)\n",
    "# 텍스트데이터 문장길이의 리스트를 생성한 후\n",
    "num_tokens = [len(tokens) for tokens in total_data_text]\n",
    "num_tokens = np.array(num_tokens)\n",
    "# 문장길이의 평균값, 최대값, 표준편차를 계산해 본다. \n",
    "print('문장길이 평균 : ', np.mean(num_tokens))\n",
    "print('문장길이 최대 : ', np.max(num_tokens))\n",
    "print('문장길이 표준편차 : ', np.std(num_tokens))\n",
    "\n",
    "# 일반적으로 95%의 신뢰구간을 가정하므로, 최대 길이를 (평균 + 2.5*표준편차)로 한다면  \n",
    "max_tokens = np.mean(num_tokens) + 2.5 * np.std(num_tokens)\n",
    "maxlen = int(max_tokens)\n",
    "print('pad_sequences maxlen : ', maxlen)\n",
    "print(f'전체 문장의 {np.sum(num_tokens < max_tokens) / len(num_tokens)}%가 maxlen 설정값 이내에 포함됩니다. ')"
   ]
  },
  {
   "cell_type": "code",
   "execution_count": 9,
   "metadata": {},
   "outputs": [
    {
     "name": "stderr",
     "output_type": "stream",
     "text": [
      "2025-02-06 23:46:38.511901: I tensorflow/core/platform/cpu_feature_guard.cc:182] This TensorFlow binary is optimized to use available CPU instructions in performance-critical operations.\n",
      "To enable the following instructions: AVX2 FMA, in other operations, rebuild TensorFlow with the appropriate compiler flags.\n",
      "2025-02-06 23:46:39.121419: W tensorflow/compiler/tf2tensorrt/utils/py_utils.cc:38] TF-TRT Warning: Could not find TensorRT\n"
     ]
    },
    {
     "name": "stdout",
     "output_type": "stream",
     "text": [
      "(146182, 48)\n"
     ]
    }
   ],
   "source": [
    "import tensorflow as tf\n",
    "\n",
    "x_train = tf.keras.preprocessing.sequence.pad_sequences(X_train,\n",
    "                                                        value=word_to_index[\"<PAD>\"],\n",
    "                                                        padding='pre',\n",
    "                                                        maxlen=maxlen)\n",
    "\n",
    "x_test = tf.keras.preprocessing.sequence.pad_sequences(X_test,\n",
    "                                                       value=word_to_index[\"<PAD>\"],\n",
    "                                                       padding='pre',\n",
    "                                                       maxlen=maxlen)\n",
    "\n",
    "print(x_train.shape)"
   ]
  },
  {
   "cell_type": "markdown",
   "metadata": {},
   "source": [
    "4) 모델 구성 및 validation set 구성\n",
    "\n",
    "모델은 3가지 이상 다양하게 구성하여 실험해 보세요.\n",
    "\n",
    "=> 실험을 위해 LSTM, CNN, BiLSTM 모델을 설계 /  Trainable Parameter의 수를 비슷하게 조정하여 유사한 표현력을 가지는 상황을 조성"
   ]
  },
  {
   "cell_type": "code",
   "execution_count": 11,
   "metadata": {},
   "outputs": [],
   "source": [
    "vocab_size = 10000    # 어휘 사전의 크기입니다(10,000개의 단어)\n",
    "word_vector_dim = 16  # 워드 벡터의 차원 수 (변경 가능한 하이퍼파라미터)"
   ]
  },
  {
   "cell_type": "code",
   "execution_count": 12,
   "metadata": {},
   "outputs": [
    {
     "name": "stdout",
     "output_type": "stream",
     "text": [
      "테스트셋 크기 : (49157, 48)\n",
      "(100000, 48)\n",
      "(100000,)\n"
     ]
    }
   ],
   "source": [
    "#test셋과 비슷한 비중으로 validation set 46182건 분리\n",
    "print('테스트셋 크기 : ' + str(x_test.shape))\n",
    "x_val = x_train[:46182]   \n",
    "y_val = y_train[:46182]\n",
    "\n",
    "# validation set을 제외한 나머지 100000건\n",
    "partial_x_train = x_train[46182:]  \n",
    "partial_y_train = y_train[46182:]\n",
    "print(partial_x_train.shape)\n",
    "print(partial_y_train.shape)"
   ]
  },
  {
   "cell_type": "code",
   "execution_count": 13,
   "metadata": {},
   "outputs": [
    {
     "name": "stdout",
     "output_type": "stream",
     "text": [
      "Model: \"sequential\"\n",
      "_________________________________________________________________\n",
      " Layer (type)                Output Shape              Param #   \n",
      "=================================================================\n",
      " embedding (Embedding)       (None, None, 16)          160000    \n",
      "                                                                 \n",
      " lstm (LSTM)                 (None, 8)                 800       \n",
      "                                                                 \n",
      " dense (Dense)               (None, 8)                 72        \n",
      "                                                                 \n",
      " dense_1 (Dense)             (None, 1)                 9         \n",
      "                                                                 \n",
      "=================================================================\n",
      "Total params: 160881 (628.44 KB)\n",
      "Trainable params: 160881 (628.44 KB)\n",
      "Non-trainable params: 0 (0.00 Byte)\n",
      "_________________________________________________________________\n"
     ]
    },
    {
     "name": "stderr",
     "output_type": "stream",
     "text": [
      "2025-02-06 15:31:02.373813: I tensorflow/compiler/xla/stream_executor/cuda/cuda_gpu_executor.cc:981] could not open file to read NUMA node: /sys/bus/pci/devices/0000:08:00.0/numa_node\n",
      "Your kernel may have been built without NUMA support.\n",
      "2025-02-06 15:31:02.374080: W tensorflow/core/common_runtime/gpu/gpu_device.cc:1960] Cannot dlopen some GPU libraries. Please make sure the missing libraries mentioned above are installed properly if you would like to use GPU. Follow the guide at https://www.tensorflow.org/install/gpu for how to download and setup the required libraries for your platform.\n",
      "Skipping registering GPU devices...\n"
     ]
    }
   ],
   "source": [
    "# model_1 설계 : LSTM\n",
    "model_1 = tf.keras.Sequential()\n",
    "model_1.add(tf.keras.layers.Embedding(vocab_size,word_vector_dim,input_shape=(None,)))\n",
    "model_1.add(tf.keras.layers.LSTM(8))\n",
    "model_1.add(tf.keras.layers.Dense(8,activation='relu'))\n",
    "model_1.add(tf.keras.layers.Dense(1,activation='sigmoid'))\n",
    "\n",
    "model_1.summary()"
   ]
  },
  {
   "cell_type": "code",
   "execution_count": 14,
   "metadata": {},
   "outputs": [
    {
     "name": "stdout",
     "output_type": "stream",
     "text": [
      "Model: \"sequential_1\"\n",
      "_________________________________________________________________\n",
      " Layer (type)                Output Shape              Param #   \n",
      "=================================================================\n",
      " embedding_1 (Embedding)     (None, None, 16)          160000    \n",
      "                                                                 \n",
      " conv1d (Conv1D)             (None, None, 16)          1296      \n",
      "                                                                 \n",
      " global_max_pooling1d (Glob  (None, 16)                0         \n",
      " alMaxPooling1D)                                                 \n",
      "                                                                 \n",
      " dense_2 (Dense)             (None, 8)                 136       \n",
      "                                                                 \n",
      " dense_3 (Dense)             (None, 1)                 9         \n",
      "                                                                 \n",
      "=================================================================\n",
      "Total params: 161441 (630.63 KB)\n",
      "Trainable params: 161441 (630.63 KB)\n",
      "Non-trainable params: 0 (0.00 Byte)\n",
      "_________________________________________________________________\n"
     ]
    }
   ],
   "source": [
    "#model_2 설계 : 1D CNN 기반\n",
    "model_2 = tf.keras.Sequential()\n",
    "model_2.add(tf.keras.layers.Embedding(vocab_size, word_vector_dim, input_shape=(None,)))\n",
    "model_2.add(tf.keras.layers.Conv1D(filters=16, kernel_size=5, activation='relu'))\n",
    "model_2.add(tf.keras.layers.GlobalMaxPooling1D())  # 중요한 특징만 추출\n",
    "model_2.add(tf.keras.layers.Dense(8, activation='relu'))\n",
    "model_2.add(tf.keras.layers.Dense(1, activation='sigmoid'))\n",
    "\n",
    "model_2.summary()"
   ]
  },
  {
   "cell_type": "code",
   "execution_count": 21,
   "metadata": {},
   "outputs": [
    {
     "name": "stdout",
     "output_type": "stream",
     "text": [
      "Model: \"sequential_3\"\n",
      "_________________________________________________________________\n",
      " Layer (type)                Output Shape              Param #   \n",
      "=================================================================\n",
      " embedding_3 (Embedding)     (None, None, 16)          160000    \n",
      "                                                                 \n",
      " bidirectional_1 (Bidirecti  (None, 16)                1600      \n",
      " onal)                                                           \n",
      "                                                                 \n",
      " dense_6 (Dense)             (None, 8)                 136       \n",
      "                                                                 \n",
      " dense_7 (Dense)             (None, 1)                 9         \n",
      "                                                                 \n",
      "=================================================================\n",
      "Total params: 161745 (631.82 KB)\n",
      "Trainable params: 161745 (631.82 KB)\n",
      "Non-trainable params: 0 (0.00 Byte)\n",
      "_________________________________________________________________\n"
     ]
    }
   ],
   "source": [
    "#model_3 설계 : BiLSTM\n",
    "model_3 = tf.keras.Sequential()\n",
    "model_3.add(tf.keras.layers.Embedding(vocab_size, word_vector_dim, input_shape=(None,)))\n",
    "model_3.add(tf.keras.layers.Bidirectional(tf.keras.layers.LSTM(8)))  # BiLSTM\n",
    "model_3.add(tf.keras.layers.Dense(8, activation='relu'))\n",
    "model_3.add(tf.keras.layers.Dense(1, activation='sigmoid'))\n",
    "\n",
    "model_3.summary()"
   ]
  },
  {
   "cell_type": "markdown",
   "metadata": {},
   "source": [
    "5) 모델 훈련 개시"
   ]
  },
  {
   "cell_type": "code",
   "execution_count": 16,
   "metadata": {},
   "outputs": [
    {
     "name": "stdout",
     "output_type": "stream",
     "text": [
      "Epoch 1/20\n",
      "196/196 [==============================] - 4s 16ms/step - loss: 0.5205 - accuracy: 0.7732 - val_loss: 0.3741 - val_accuracy: 0.8419\n",
      "Epoch 2/20\n",
      "196/196 [==============================] - 3s 16ms/step - loss: 0.3474 - accuracy: 0.8543 - val_loss: 0.3495 - val_accuracy: 0.8494\n",
      "Epoch 3/20\n",
      "196/196 [==============================] - 3s 15ms/step - loss: 0.3180 - accuracy: 0.8693 - val_loss: 0.3479 - val_accuracy: 0.8494\n",
      "Epoch 4/20\n",
      "196/196 [==============================] - 3s 14ms/step - loss: 0.3027 - accuracy: 0.8764 - val_loss: 0.3528 - val_accuracy: 0.8488\n",
      "Epoch 5/20\n",
      "196/196 [==============================] - 3s 15ms/step - loss: 0.2918 - accuracy: 0.8820 - val_loss: 0.3522 - val_accuracy: 0.8507\n",
      "Epoch 6/20\n",
      "196/196 [==============================] - 3s 15ms/step - loss: 0.2811 - accuracy: 0.8867 - val_loss: 0.3585 - val_accuracy: 0.8484\n",
      "Epoch 7/20\n",
      "196/196 [==============================] - 3s 14ms/step - loss: 0.2716 - accuracy: 0.8920 - val_loss: 0.3609 - val_accuracy: 0.8508\n",
      "Epoch 8/20\n",
      "196/196 [==============================] - 3s 15ms/step - loss: 0.2609 - accuracy: 0.8967 - val_loss: 0.3654 - val_accuracy: 0.8496\n",
      "Epoch 9/20\n",
      "196/196 [==============================] - 3s 15ms/step - loss: 0.2516 - accuracy: 0.9016 - val_loss: 0.3671 - val_accuracy: 0.8498\n",
      "Epoch 10/20\n",
      "196/196 [==============================] - 3s 14ms/step - loss: 0.2416 - accuracy: 0.9061 - val_loss: 0.3701 - val_accuracy: 0.8482\n",
      "Epoch 11/20\n",
      "196/196 [==============================] - 3s 15ms/step - loss: 0.2317 - accuracy: 0.9100 - val_loss: 0.3840 - val_accuracy: 0.8473\n",
      "Epoch 12/20\n",
      "196/196 [==============================] - 3s 15ms/step - loss: 0.2235 - accuracy: 0.9151 - val_loss: 0.3950 - val_accuracy: 0.8470\n",
      "Epoch 13/20\n",
      "196/196 [==============================] - 3s 14ms/step - loss: 0.2150 - accuracy: 0.9180 - val_loss: 0.3965 - val_accuracy: 0.8456\n",
      "Epoch 14/20\n",
      "196/196 [==============================] - 3s 15ms/step - loss: 0.2064 - accuracy: 0.9212 - val_loss: 0.4169 - val_accuracy: 0.8433\n",
      "Epoch 15/20\n",
      "196/196 [==============================] - 3s 14ms/step - loss: 0.1989 - accuracy: 0.9247 - val_loss: 0.4225 - val_accuracy: 0.8440\n",
      "Epoch 16/20\n",
      "196/196 [==============================] - 3s 15ms/step - loss: 0.1899 - accuracy: 0.9293 - val_loss: 0.4403 - val_accuracy: 0.8437\n",
      "Epoch 17/20\n",
      "196/196 [==============================] - 3s 15ms/step - loss: 0.1841 - accuracy: 0.9309 - val_loss: 0.4476 - val_accuracy: 0.8421\n",
      "Epoch 18/20\n",
      "196/196 [==============================] - 3s 14ms/step - loss: 0.1763 - accuracy: 0.9347 - val_loss: 0.4771 - val_accuracy: 0.8400\n",
      "Epoch 19/20\n",
      "196/196 [==============================] - 3s 14ms/step - loss: 0.1687 - accuracy: 0.9379 - val_loss: 0.4723 - val_accuracy: 0.8386\n",
      "Epoch 20/20\n",
      "196/196 [==============================] - 3s 15ms/step - loss: 0.1645 - accuracy: 0.9398 - val_loss: 0.5001 - val_accuracy: 0.8384\n"
     ]
    }
   ],
   "source": [
    "model_1.compile(optimizer='adam',\n",
    "              loss='binary_crossentropy',\n",
    "              metrics=['accuracy'])\n",
    "\n",
    "epochs=20\n",
    "\n",
    "history_1 = model_1.fit(partial_x_train,\n",
    "                    partial_y_train,\n",
    "                    epochs=epochs,\n",
    "                    batch_size=512,\n",
    "                    validation_data=(x_val, y_val),\n",
    "                    verbose=1)"
   ]
  },
  {
   "cell_type": "code",
   "execution_count": 17,
   "metadata": {},
   "outputs": [
    {
     "name": "stdout",
     "output_type": "stream",
     "text": [
      "1537/1537 - 2s - loss: 0.5147 - accuracy: 0.8325 - 2s/epoch - 1ms/step\n",
      "[0.5147085189819336, 0.8325162529945374]\n"
     ]
    }
   ],
   "source": [
    "result_1 = model_1.evaluate(x_test,  y_test, verbose=2)\n",
    "\n",
    "print(result_1)"
   ]
  },
  {
   "cell_type": "code",
   "execution_count": 18,
   "metadata": {},
   "outputs": [
    {
     "name": "stdout",
     "output_type": "stream",
     "text": [
      "Epoch 1/20\n",
      "196/196 [==============================] - 2s 6ms/step - loss: 0.5321 - accuracy: 0.7535 - val_loss: 0.3725 - val_accuracy: 0.8347\n",
      "Epoch 2/20\n",
      "196/196 [==============================] - 1s 5ms/step - loss: 0.3424 - accuracy: 0.8534 - val_loss: 0.3460 - val_accuracy: 0.8502\n",
      "Epoch 3/20\n",
      "196/196 [==============================] - 1s 5ms/step - loss: 0.2998 - accuracy: 0.8772 - val_loss: 0.3431 - val_accuracy: 0.8523\n",
      "Epoch 4/20\n",
      "196/196 [==============================] - 1s 5ms/step - loss: 0.2707 - accuracy: 0.8913 - val_loss: 0.3479 - val_accuracy: 0.8531\n",
      "Epoch 5/20\n",
      "196/196 [==============================] - 1s 5ms/step - loss: 0.2446 - accuracy: 0.9038 - val_loss: 0.3572 - val_accuracy: 0.8506\n",
      "Epoch 6/20\n",
      "196/196 [==============================] - 1s 5ms/step - loss: 0.2207 - accuracy: 0.9160 - val_loss: 0.3698 - val_accuracy: 0.8505\n",
      "Epoch 7/20\n",
      "196/196 [==============================] - 1s 5ms/step - loss: 0.1970 - accuracy: 0.9282 - val_loss: 0.3862 - val_accuracy: 0.8482\n",
      "Epoch 8/20\n",
      "196/196 [==============================] - 1s 5ms/step - loss: 0.1756 - accuracy: 0.9380 - val_loss: 0.4057 - val_accuracy: 0.8456\n",
      "Epoch 9/20\n",
      "196/196 [==============================] - 1s 5ms/step - loss: 0.1554 - accuracy: 0.9473 - val_loss: 0.4283 - val_accuracy: 0.8431\n",
      "Epoch 10/20\n",
      "196/196 [==============================] - 1s 5ms/step - loss: 0.1363 - accuracy: 0.9552 - val_loss: 0.4586 - val_accuracy: 0.8404\n",
      "Epoch 11/20\n",
      "196/196 [==============================] - 1s 5ms/step - loss: 0.1193 - accuracy: 0.9620 - val_loss: 0.4839 - val_accuracy: 0.8373\n",
      "Epoch 12/20\n",
      "196/196 [==============================] - 1s 5ms/step - loss: 0.1046 - accuracy: 0.9674 - val_loss: 0.5160 - val_accuracy: 0.8340\n",
      "Epoch 13/20\n",
      "196/196 [==============================] - 1s 5ms/step - loss: 0.0915 - accuracy: 0.9726 - val_loss: 0.5474 - val_accuracy: 0.8320\n",
      "Epoch 14/20\n",
      "196/196 [==============================] - 1s 5ms/step - loss: 0.0802 - accuracy: 0.9765 - val_loss: 0.5879 - val_accuracy: 0.8295\n",
      "Epoch 15/20\n",
      "196/196 [==============================] - 1s 5ms/step - loss: 0.0714 - accuracy: 0.9791 - val_loss: 0.6234 - val_accuracy: 0.8275\n",
      "Epoch 16/20\n",
      "196/196 [==============================] - 1s 5ms/step - loss: 0.0626 - accuracy: 0.9827 - val_loss: 0.6631 - val_accuracy: 0.8242\n",
      "Epoch 17/20\n",
      "196/196 [==============================] - 1s 5ms/step - loss: 0.0559 - accuracy: 0.9841 - val_loss: 0.6967 - val_accuracy: 0.8235\n",
      "Epoch 18/20\n",
      "196/196 [==============================] - 1s 5ms/step - loss: 0.0506 - accuracy: 0.9858 - val_loss: 0.7365 - val_accuracy: 0.8212\n",
      "Epoch 19/20\n",
      "196/196 [==============================] - 1s 5ms/step - loss: 0.0447 - accuracy: 0.9874 - val_loss: 0.7762 - val_accuracy: 0.8205\n",
      "Epoch 20/20\n",
      "196/196 [==============================] - 1s 5ms/step - loss: 0.0404 - accuracy: 0.9889 - val_loss: 0.8123 - val_accuracy: 0.8190\n"
     ]
    }
   ],
   "source": [
    "model_2.compile(optimizer='adam',\n",
    "              loss='binary_crossentropy',\n",
    "              metrics=['accuracy'])\n",
    "\n",
    "history_2 = model_2.fit(partial_x_train,\n",
    "                    partial_y_train,\n",
    "                    epochs=epochs,\n",
    "                    batch_size=512,\n",
    "                    validation_data=(x_val, y_val),\n",
    "                    verbose=1)"
   ]
  },
  {
   "cell_type": "code",
   "execution_count": 19,
   "metadata": {},
   "outputs": [
    {
     "name": "stdout",
     "output_type": "stream",
     "text": [
      "1537/1537 - 1s - loss: 0.8298 - accuracy: 0.8175 - 920ms/epoch - 599us/step\n",
      "[0.8298082947731018, 0.8175030946731567]\n"
     ]
    }
   ],
   "source": [
    "result_2 = model_2.evaluate(x_test,  y_test, verbose=2)\n",
    "\n",
    "print(result_2)"
   ]
  },
  {
   "cell_type": "code",
   "execution_count": 22,
   "metadata": {},
   "outputs": [
    {
     "name": "stdout",
     "output_type": "stream",
     "text": [
      "Epoch 1/20\n",
      "196/196 [==============================] - 6s 22ms/step - loss: 0.5109 - accuracy: 0.7690 - val_loss: 0.3674 - val_accuracy: 0.8437\n",
      "Epoch 2/20\n",
      "196/196 [==============================] - 4s 20ms/step - loss: 0.3431 - accuracy: 0.8542 - val_loss: 0.3491 - val_accuracy: 0.8501\n",
      "Epoch 3/20\n",
      "196/196 [==============================] - 4s 20ms/step - loss: 0.3171 - accuracy: 0.8668 - val_loss: 0.3496 - val_accuracy: 0.8483\n",
      "Epoch 4/20\n",
      "196/196 [==============================] - 4s 19ms/step - loss: 0.3036 - accuracy: 0.8732 - val_loss: 0.3503 - val_accuracy: 0.8503\n",
      "Epoch 5/20\n",
      "196/196 [==============================] - 4s 19ms/step - loss: 0.2910 - accuracy: 0.8791 - val_loss: 0.3548 - val_accuracy: 0.8505\n",
      "Epoch 6/20\n",
      "196/196 [==============================] - 4s 20ms/step - loss: 0.2794 - accuracy: 0.8844 - val_loss: 0.3565 - val_accuracy: 0.8508\n",
      "Epoch 7/20\n",
      "196/196 [==============================] - 4s 20ms/step - loss: 0.2680 - accuracy: 0.8902 - val_loss: 0.3634 - val_accuracy: 0.8468\n",
      "Epoch 8/20\n",
      "196/196 [==============================] - 4s 20ms/step - loss: 0.2561 - accuracy: 0.8957 - val_loss: 0.3666 - val_accuracy: 0.8489\n",
      "Epoch 9/20\n",
      "196/196 [==============================] - 4s 20ms/step - loss: 0.2449 - accuracy: 0.9003 - val_loss: 0.3810 - val_accuracy: 0.8481\n",
      "Epoch 10/20\n",
      "196/196 [==============================] - 4s 20ms/step - loss: 0.2338 - accuracy: 0.9061 - val_loss: 0.3825 - val_accuracy: 0.8460\n",
      "Epoch 11/20\n",
      "196/196 [==============================] - 4s 20ms/step - loss: 0.2240 - accuracy: 0.9108 - val_loss: 0.3962 - val_accuracy: 0.8457\n",
      "Epoch 12/20\n",
      "196/196 [==============================] - 4s 20ms/step - loss: 0.2139 - accuracy: 0.9158 - val_loss: 0.4166 - val_accuracy: 0.8427\n",
      "Epoch 13/20\n",
      "196/196 [==============================] - 4s 19ms/step - loss: 0.2050 - accuracy: 0.9197 - val_loss: 0.4238 - val_accuracy: 0.8424\n",
      "Epoch 14/20\n",
      "196/196 [==============================] - 4s 19ms/step - loss: 0.1956 - accuracy: 0.9245 - val_loss: 0.4369 - val_accuracy: 0.8401\n",
      "Epoch 15/20\n",
      "196/196 [==============================] - 4s 20ms/step - loss: 0.1866 - accuracy: 0.9285 - val_loss: 0.4526 - val_accuracy: 0.8406\n",
      "Epoch 16/20\n",
      "196/196 [==============================] - 4s 20ms/step - loss: 0.1800 - accuracy: 0.9320 - val_loss: 0.4676 - val_accuracy: 0.8386\n",
      "Epoch 17/20\n",
      "196/196 [==============================] - 4s 20ms/step - loss: 0.1728 - accuracy: 0.9351 - val_loss: 0.4826 - val_accuracy: 0.8373\n",
      "Epoch 18/20\n",
      "196/196 [==============================] - 4s 20ms/step - loss: 0.1681 - accuracy: 0.9371 - val_loss: 0.5008 - val_accuracy: 0.8380\n",
      "Epoch 19/20\n",
      "196/196 [==============================] - 4s 20ms/step - loss: 0.1602 - accuracy: 0.9409 - val_loss: 0.5035 - val_accuracy: 0.8370\n",
      "Epoch 20/20\n",
      "196/196 [==============================] - 4s 20ms/step - loss: 0.1546 - accuracy: 0.9439 - val_loss: 0.5345 - val_accuracy: 0.8359\n"
     ]
    }
   ],
   "source": [
    "model_3.compile(optimizer='adam',\n",
    "              loss='binary_crossentropy',\n",
    "              metrics=['accuracy'])\n",
    "\n",
    "history_3 = model_3.fit(partial_x_train,\n",
    "                    partial_y_train,\n",
    "                    epochs=epochs,\n",
    "                    batch_size=512,\n",
    "                    validation_data=(x_val, y_val),\n",
    "                    verbose=1)"
   ]
  },
  {
   "cell_type": "code",
   "execution_count": 23,
   "metadata": {},
   "outputs": [
    {
     "name": "stdout",
     "output_type": "stream",
     "text": [
      "1537/1537 - 3s - loss: 0.5412 - accuracy: 0.8293 - 3s/epoch - 2ms/step\n",
      "[0.5412485599517822, 0.8293427228927612]\n"
     ]
    }
   ],
   "source": [
    "result_3 = model_3.evaluate(x_test,  y_test, verbose=2)\n",
    "\n",
    "print(result_3)"
   ]
  },
  {
   "cell_type": "markdown",
   "metadata": {},
   "source": [
    "6) Loss, Accuracy 그래프 시각화"
   ]
  },
  {
   "cell_type": "code",
   "execution_count": 39,
   "metadata": {},
   "outputs": [
    {
     "data": {
      "image/png": "[encoded data removed]",
      "text/plain": [
       "<Figure size 1200x500 with 1 Axes>"
      ]
     },
     "metadata": {},
     "output_type": "display_data"
    }
   ],
   "source": [
    "import matplotlib.pyplot as plt\n",
    "\n",
    "# 모델별 history 데이터\n",
    "histories = [history_1.history, history_2.history, history_3.history]\n",
    "model_labels = [\"Model 1 (LSTM)\", \"Model 2 (1D CNN)\", \"Model 3 (BiLSTM)\"]\n",
    "colors = ['b', 'g', 'r']\n",
    "\n",
    "# 그래프 그리기\n",
    "epochs = range(1, len(histories[0]['accuracy']) + 1)\n",
    "\n",
    "plt.figure(figsize=(12, 5))\n",
    "\n",
    "# Loss 그래프\n",
    "for i, (history, color) in enumerate(zip(histories, colors)):\n",
    "    plt.plot(epochs, history['loss'], label=f\"{model_labels[i]} - Training Loss\", linestyle='dotted', linewidth=3, color=color)\n",
    "    plt.plot(epochs, history['val_loss'], label=f\"{model_labels[i]} - Validation Loss\", linestyle='solid', linewidth=2, color=color)\n",
    "plt.title(\"Training & Validation Loss\")\n",
    "plt.xlabel(\"Epochs\")\n",
    "plt.ylabel(\"Loss\")\n",
    "plt.legend()\n",
    "plt.grid(True)"
   ]
  },
  {
   "cell_type": "code",
   "execution_count": 40,
   "metadata": {},
   "outputs": [
    {
     "data": {
      "image/png": "[encoded data removed]",
      "text/plain": [
       "<Figure size 1200x500 with 1 Axes>"
      ]
     },
     "metadata": {},
     "output_type": "display_data"
    }
   ],
   "source": [
    "# Accuracy 그래프\n",
    "plt.figure(figsize=(12, 5))\n",
    "for i, (history, color) in enumerate(zip(histories, colors)):\n",
    "    plt.plot(epochs, history['accuracy'], label=f\"{model_labels[i]} - Training Acc\", linestyle='dotted', linewidth=3, color=color)\n",
    "    plt.plot(epochs, history['val_accuracy'], label=f\"{model_labels[i]} - Validation Acc\", linestyle='solid', linewidth=2, color=color)\n",
    "plt.title(\"Training & Validation Accuracy\")\n",
    "plt.xlabel(\"Epochs\")\n",
    "plt.ylabel(\"Accuracy\")\n",
    "plt.legend()\n",
    "plt.grid(True)\n",
    "\n",
    "plt.tight_layout()\n",
    "plt.show()"
   ]
  },
  {
   "cell_type": "markdown",
   "metadata": {},
   "source": [
    "7) 학습된 Embedding 레이어 분석"
   ]
  },
  {
   "cell_type": "code",
   "execution_count": 41,
   "metadata": {},
   "outputs": [
    {
     "name": "stdout",
     "output_type": "stream",
     "text": [
      "(10000, 16)\n"
     ]
    }
   ],
   "source": [
    "embedding_layer_model_1 = model_1.layers[0]\n",
    "weights_model_1 = embedding_layer_model_1.get_weights()[0]\n",
    "print(weights_model_1.shape)    # shape: (vocab_size, embedding_dim)"
   ]
  },
  {
   "cell_type": "code",
   "execution_count": 42,
   "metadata": {},
   "outputs": [],
   "source": [
    "word2vec_file_path_model_1 = './data/word2vec_model_1.txt'\n",
    "f = open(word2vec_file_path_model_1, 'w')\n",
    "f.write('{} {}\\n'.format(vocab_size-4, word_vector_dim))  # 몇개의 벡터를 얼마 사이즈로 기재할지 타이틀을 씁니다.\n",
    "\n",
    "# 단어 개수(에서 특수문자 4개는 제외하고)만큼의 워드 벡터를 파일에 기록합니다. \n",
    "vectors = model_1.get_weights()[0]\n",
    "for i in range(4,vocab_size):\n",
    "    f.write('{} {}\\n'.format(index_to_word[i], ' '.join(map(str, list(vectors[i, :])))))\n",
    "f.close()"
   ]
  },
  {
   "cell_type": "code",
   "execution_count": 44,
   "metadata": {},
   "outputs": [
    {
     "data": {
      "text/plain": [
       "array([-0.08446749,  0.09946074, -0.09681027, -0.07232139, -0.12123157,\n",
       "        0.11327253,  0.03340477,  0.00709907,  0.0830873 , -0.03071211,\n",
       "       -0.05499986,  0.01299704,  0.12349446,  0.08891355, -0.09711676,\n",
       "        0.10880877], dtype=float32)"
      ]
     },
     "execution_count": 44,
     "metadata": {},
     "output_type": "execute_result"
    }
   ],
   "source": [
    "from gensim.models.keyedvectors import Word2VecKeyedVectors\n",
    "\n",
    "word_vectors_model_1 = Word2VecKeyedVectors.load_word2vec_format(word2vec_file_path_model_1, binary=False)\n",
    "vector = word_vectors_model_1['사랑']\n",
    "vector"
   ]
  },
  {
   "cell_type": "code",
   "execution_count": 45,
   "metadata": {},
   "outputs": [
    {
     "data": {
      "text/plain": [
       "[('눈물', 0.9337810277938843),\n",
       " ('ㅠㅠㅠㅠㅠ', 0.9255380630493164),\n",
       " ('명작', 0.9129354953765869),\n",
       " ('니슨', 0.9087029695510864),\n",
       " ('굿', 0.9078201055526733),\n",
       " ('울음', 0.90004563331604),\n",
       " ('시원', 0.8997013568878174),\n",
       " ('비범', 0.8993362188339233),\n",
       " ('재', 0.8985065221786499),\n",
       " ('미워할', 0.8977938890457153)]"
      ]
     },
     "execution_count": 45,
     "metadata": {},
     "output_type": "execute_result"
    }
   ],
   "source": [
    "word_vectors_model_1.similar_by_word(\"사랑\")"
   ]
  },
  {
   "cell_type": "code",
   "execution_count": 46,
   "metadata": {},
   "outputs": [
    {
     "name": "stdout",
     "output_type": "stream",
     "text": [
      "(10000, 16)\n"
     ]
    }
   ],
   "source": [
    "embedding_layer_model_2 = model_2.layers[0]\n",
    "weights_model_2 = embedding_layer_model_2.get_weights()[0]\n",
    "print(weights_model_2.shape)    # shape: (vocab_size, embedding_dim)"
   ]
  },
  {
   "cell_type": "code",
   "execution_count": 47,
   "metadata": {},
   "outputs": [],
   "source": [
    "word2vec_file_path_model_2 = './data/word2vec_model_2.txt'\n",
    "f = open(word2vec_file_path_model_2, 'w')\n",
    "f.write('{} {}\\n'.format(vocab_size-4, word_vector_dim))  # 몇개의 벡터를 얼마 사이즈로 기재할지 타이틀을 씁니다.\n",
    "\n",
    "# 단어 개수(에서 특수문자 4개는 제외하고)만큼의 워드 벡터를 파일에 기록합니다. \n",
    "vectors = model_2.get_weights()[0]\n",
    "for i in range(4,vocab_size):\n",
    "    f.write('{} {}\\n'.format(index_to_word[i], ' '.join(map(str, list(vectors[i, :])))))\n",
    "f.close()"
   ]
  },
  {
   "cell_type": "code",
   "execution_count": 49,
   "metadata": {},
   "outputs": [
    {
     "data": {
      "text/plain": [
       "array([-0.01778495,  0.0871995 ,  0.04445443,  0.0411691 , -0.02553311,\n",
       "        0.0793968 , -0.02920903, -0.0452236 , -0.14312764,  0.05445446,\n",
       "       -0.02145064, -0.1047283 , -0.12710549, -0.02760238,  0.04324585,\n",
       "       -0.13560961], dtype=float32)"
      ]
     },
     "execution_count": 49,
     "metadata": {},
     "output_type": "execute_result"
    }
   ],
   "source": [
    "word_vectors_model_2 = Word2VecKeyedVectors.load_word2vec_format(word2vec_file_path_model_2, binary=False)\n",
    "vector = word_vectors_model_2['사랑']\n",
    "vector"
   ]
  },
  {
   "cell_type": "code",
   "execution_count": 50,
   "metadata": {},
   "outputs": [
    {
     "data": {
      "text/plain": [
       "[('완성', 0.8292607665061951),\n",
       " ('달콤', 0.7986701726913452),\n",
       " ('수작', 0.7924852967262268),\n",
       " ('life', 0.7794241309165955),\n",
       " ('이장우', 0.768907368183136),\n",
       " ('못지않', 0.7672232389450073),\n",
       " ('을려나', 0.7654765248298645),\n",
       " ('생김', 0.7630656361579895),\n",
       " ('타워', 0.762414276599884),\n",
       " ('명작', 0.7606608867645264)]"
      ]
     },
     "execution_count": 50,
     "metadata": {},
     "output_type": "execute_result"
    }
   ],
   "source": [
    "word_vectors_model_2.similar_by_word(\"사랑\")"
   ]
  },
  {
   "cell_type": "code",
   "execution_count": 51,
   "metadata": {},
   "outputs": [
    {
     "name": "stdout",
     "output_type": "stream",
     "text": [
      "(10000, 16)\n"
     ]
    }
   ],
   "source": [
    "embedding_layer_model_3 = model_3.layers[0]\n",
    "weights_model_3 = embedding_layer_model_3.get_weights()[0]\n",
    "print(weights_model_3.shape)    # shape: (vocab_size, embedding_dim)"
   ]
  },
  {
   "cell_type": "code",
   "execution_count": 52,
   "metadata": {},
   "outputs": [],
   "source": [
    "word2vec_file_path_model_3 = './data/word2vec_model_3.txt'\n",
    "f = open(word2vec_file_path_model_3, 'w')\n",
    "f.write('{} {}\\n'.format(vocab_size-4, word_vector_dim))  # 몇개의 벡터를 얼마 사이즈로 기재할지 타이틀을 씁니다.\n",
    "\n",
    "# 단어 개수(에서 특수문자 4개는 제외하고)만큼의 워드 벡터를 파일에 기록합니다. \n",
    "vectors = model_3.get_weights()[0]\n",
    "for i in range(4,vocab_size):\n",
    "    f.write('{} {}\\n'.format(index_to_word[i], ' '.join(map(str, list(vectors[i, :])))))\n",
    "f.close()"
   ]
  },
  {
   "cell_type": "code",
   "execution_count": 53,
   "metadata": {},
   "outputs": [
    {
     "data": {
      "text/plain": [
       "array([-0.02320533,  0.1361819 , -0.02475747, -0.06173516,  0.04962579,\n",
       "        0.12962857, -0.109253  , -0.05936567,  0.14434314,  0.09515089,\n",
       "        0.10476906, -0.04681761, -0.03981877, -0.05769587, -0.08710919,\n",
       "        0.11886739], dtype=float32)"
      ]
     },
     "execution_count": 53,
     "metadata": {},
     "output_type": "execute_result"
    }
   ],
   "source": [
    "word_vectors_model_3 = Word2VecKeyedVectors.load_word2vec_format(word2vec_file_path_model_3, binary=False)\n",
    "vector = word_vectors_model_3['사랑']\n",
    "vector"
   ]
  },
  {
   "cell_type": "code",
   "execution_count": 55,
   "metadata": {},
   "outputs": [
    {
     "data": {
      "text/plain": [
       "[('높여', 0.9319850206375122),\n",
       " ('깊', 0.9160745739936829),\n",
       " ('맛보', 0.9128435850143433),\n",
       " ('가져야', 0.9101733565330505),\n",
       " ('모델', 0.9049026966094971),\n",
       " ('텐', 0.904303252696991),\n",
       " ('풀어낼', 0.9020294547080994),\n",
       " ('괜찮', 0.9008151888847351),\n",
       " ('초등', 0.8981117606163025),\n",
       " ('8', 0.8978073596954346)]"
      ]
     },
     "execution_count": 55,
     "metadata": {},
     "output_type": "execute_result"
    }
   ],
   "source": [
    "word_vectors_model_3.similar_by_word(\"사랑\")"
   ]
  },
  {
   "cell_type": "markdown",
   "metadata": {},
   "source": [
    "8) 한국어 Word2Vec 임베딩 활용하여 성능 개선"
   ]
  },
  {
   "cell_type": "code",
   "execution_count": 58,
   "metadata": {},
   "outputs": [
    {
     "data": {
      "text/plain": [
       "array([ 3.2565942 , -0.85421413, -3.6964011 ,  1.0956469 ,  0.599815  ,\n",
       "       -1.9681435 ,  0.32379073, -1.0716053 , -1.1776937 ,  2.0442047 ,\n",
       "        2.2501915 , -2.7868037 , -2.702359  , -0.9775915 , -0.12478333,\n",
       "        0.28235647,  0.77683175, -1.5393747 ,  2.0879042 , -5.444462  ,\n",
       "       -4.931412  ,  0.8532094 ,  0.11118065, -2.743522  ,  0.7902363 ,\n",
       "        0.10469969, -0.56074625,  1.6684421 ,  1.0278419 , -3.8816829 ,\n",
       "       -3.606887  , -3.120771  , -1.2527398 , -0.77196646, -1.0102901 ,\n",
       "        3.331668  ,  0.30032924,  1.2074511 , -1.2813627 ,  2.6281219 ,\n",
       "       -1.4624823 , -1.1354805 ,  0.7605239 ,  2.83577   , -1.199358  ,\n",
       "        3.1347232 ,  4.062026  , -0.23413125,  3.205856  , -0.9567054 ,\n",
       "        0.77167803, -1.4300145 ,  2.9014013 , -3.940087  , -3.234169  ,\n",
       "       -5.5460634 ,  0.6185009 , -0.75793767,  2.1043491 ,  2.350599  ,\n",
       "        2.9313247 , -2.235593  ,  3.2084036 , -5.594638  ,  1.6516634 ,\n",
       "       -0.32628602, -1.8824683 , -1.5573231 , -1.8452163 , -1.4044309 ,\n",
       "        4.872565  , -2.1063929 , -0.32347348,  1.9946551 , -4.0967984 ,\n",
       "       -1.4509655 , -0.09111219, -4.458617  ,  0.06598099, -2.211754  ,\n",
       "        3.0731246 , -0.06910119,  2.2555242 ,  2.0823317 , -0.58695716,\n",
       "       -3.1035714 ,  2.4014452 ,  3.4731216 ,  1.424459  , -4.313935  ,\n",
       "       -3.5665336 , -6.5203366 , -2.1090846 , -3.2797608 ,  0.4331985 ,\n",
       "        1.1721823 ,  1.8870457 , -0.08832774,  5.423067  , -3.8484313 ],\n",
       "      dtype=float32)"
      ]
     },
     "execution_count": 58,
     "metadata": {},
     "output_type": "execute_result"
    }
   ],
   "source": [
    "from gensim.models.keyedvectors import Word2VecKeyedVectors\n",
    "word2vec_model_path = './data/word2vec_ko.model'\n",
    "word_vectors = Word2VecKeyedVectors.load(word2vec_model_path)\n",
    "vector = word_vectors.wv['사랑']\n",
    "vector"
   ]
  },
  {
   "cell_type": "code",
   "execution_count": 75,
   "metadata": {},
   "outputs": [],
   "source": [
    "from gensim.models import Word2Vec\n",
    "word_vectors = Word2Vec.load(word2vec_model_path).wv\n",
    "vocab_size = 10000    # 어휘 사전의 크기입니다(10,000개의 단어)\n",
    "word_vector_dim = 100  # 워드 벡터의 차원수\n",
    "embedding_matrix = np.random.rand(vocab_size, word_vector_dim)\n",
    "\n",
    "# embedding_matrix에 Word2Vec 워드 벡터를 단어 하나씩마다 차례차례 카피한다.\n",
    "for i in range(4,vocab_size):\n",
    "    if index_to_word[i] in word_vectors.key_to_index:\n",
    "        embedding_matrix[i] = word_vectors[index_to_word[i]]"
   ]
  },
  {
   "cell_type": "code",
   "execution_count": 76,
   "metadata": {},
   "outputs": [
    {
     "name": "stdout",
     "output_type": "stream",
     "text": [
      "Model: \"sequential_8\"\n",
      "_________________________________________________________________\n",
      " Layer (type)                Output Shape              Param #   \n",
      "=================================================================\n",
      " embedding_8 (Embedding)     (None, 48, 100)           1000000   \n",
      "                                                                 \n",
      " conv1d_6 (Conv1D)           (None, 44, 16)            8016      \n",
      "                                                                 \n",
      " global_max_pooling1d_4 (Gl  (None, 16)                0         \n",
      " obalMaxPooling1D)                                               \n",
      "                                                                 \n",
      " dense_16 (Dense)            (None, 8)                 136       \n",
      "                                                                 \n",
      " dense_17 (Dense)            (None, 1)                 9         \n",
      "                                                                 \n",
      "=================================================================\n",
      "Total params: 1008161 (3.85 MB)\n",
      "Trainable params: 1008161 (3.85 MB)\n",
      "Non-trainable params: 0 (0.00 Byte)\n",
      "_________________________________________________________________\n"
     ]
    }
   ],
   "source": [
    "from tensorflow.keras.initializers import Constant\n",
    "\n",
    "#model_2 방식으로 embedding_Matrix만 추가하여 실험\n",
    "model_Word2Vec_2 = tf.keras.Sequential()\n",
    "model_Word2Vec_2.add(tf.keras.layers.Embedding(vocab_size, \n",
    "                                 word_vector_dim, \n",
    "                                 embeddings_initializer=Constant(embedding_matrix),  # 카피한 임베딩을 여기서 활용\n",
    "                                 input_length=maxlen, \n",
    "                                 trainable=True))   # trainable을 True로 주면 Fine-tuning\n",
    "model_Word2Vec_2.add(tf.keras.layers.Conv1D(filters=16, kernel_size=5, activation='relu'))\n",
    "model_Word2Vec_2.add(tf.keras.layers.GlobalMaxPooling1D())  # 중요한 특징만 추출\n",
    "model_Word2Vec_2.add(tf.keras.layers.Dense(8, activation='relu'))\n",
    "model_Word2Vec_2.add(tf.keras.layers.Dense(1, activation='sigmoid'))\n",
    "\n",
    "model_Word2Vec_2.summary()"
   ]
  },
  {
   "cell_type": "code",
   "execution_count": 77,
   "metadata": {},
   "outputs": [
    {
     "name": "stdout",
     "output_type": "stream",
     "text": [
      "Epoch 1/20\n",
      "196/196 [==============================] - 4s 19ms/step - loss: 0.5984 - accuracy: 0.6802 - val_loss: 0.5231 - val_accuracy: 0.7400\n",
      "Epoch 2/20\n",
      "196/196 [==============================] - 3s 17ms/step - loss: 0.4858 - accuracy: 0.7679 - val_loss: 0.4656 - val_accuracy: 0.7810\n",
      "Epoch 3/20\n",
      "196/196 [==============================] - 3s 18ms/step - loss: 0.4290 - accuracy: 0.8034 - val_loss: 0.4266 - val_accuracy: 0.8037\n",
      "Epoch 4/20\n",
      "196/196 [==============================] - 3s 17ms/step - loss: 0.3878 - accuracy: 0.8273 - val_loss: 0.4030 - val_accuracy: 0.8179\n",
      "Epoch 5/20\n",
      "196/196 [==============================] - 3s 17ms/step - loss: 0.3569 - accuracy: 0.8434 - val_loss: 0.3873 - val_accuracy: 0.8266\n",
      "Epoch 6/20\n",
      "196/196 [==============================] - 3s 17ms/step - loss: 0.3318 - accuracy: 0.8559 - val_loss: 0.3809 - val_accuracy: 0.8319\n",
      "Epoch 7/20\n",
      "196/196 [==============================] - 3s 17ms/step - loss: 0.3118 - accuracy: 0.8660 - val_loss: 0.3787 - val_accuracy: 0.8352\n",
      "Epoch 8/20\n",
      "196/196 [==============================] - 3s 17ms/step - loss: 0.2942 - accuracy: 0.8759 - val_loss: 0.3723 - val_accuracy: 0.8395\n",
      "Epoch 9/20\n",
      "196/196 [==============================] - 3s 16ms/step - loss: 0.2788 - accuracy: 0.8827 - val_loss: 0.3761 - val_accuracy: 0.8398\n",
      "Epoch 10/20\n",
      "196/196 [==============================] - 3s 17ms/step - loss: 0.2640 - accuracy: 0.8914 - val_loss: 0.3778 - val_accuracy: 0.8394\n",
      "Epoch 11/20\n",
      "196/196 [==============================] - 3s 17ms/step - loss: 0.2513 - accuracy: 0.8973 - val_loss: 0.3852 - val_accuracy: 0.8397\n",
      "Epoch 12/20\n",
      "196/196 [==============================] - 4s 18ms/step - loss: 0.2382 - accuracy: 0.9045 - val_loss: 0.3924 - val_accuracy: 0.8391\n",
      "Epoch 13/20\n",
      "196/196 [==============================] - 3s 17ms/step - loss: 0.2260 - accuracy: 0.9101 - val_loss: 0.4070 - val_accuracy: 0.8380\n",
      "Epoch 14/20\n",
      "196/196 [==============================] - 3s 17ms/step - loss: 0.2134 - accuracy: 0.9164 - val_loss: 0.4096 - val_accuracy: 0.8391\n",
      "Epoch 15/20\n",
      "196/196 [==============================] - 3s 17ms/step - loss: 0.2025 - accuracy: 0.9220 - val_loss: 0.4245 - val_accuracy: 0.8384\n",
      "Epoch 16/20\n",
      "196/196 [==============================] - 3s 17ms/step - loss: 0.1918 - accuracy: 0.9271 - val_loss: 0.4392 - val_accuracy: 0.8366\n",
      "Epoch 17/20\n",
      "196/196 [==============================] - 3s 17ms/step - loss: 0.1804 - accuracy: 0.9318 - val_loss: 0.4549 - val_accuracy: 0.8353\n",
      "Epoch 18/20\n",
      "196/196 [==============================] - 3s 17ms/step - loss: 0.1708 - accuracy: 0.9367 - val_loss: 0.4735 - val_accuracy: 0.8334\n",
      "Epoch 19/20\n",
      "196/196 [==============================] - 3s 17ms/step - loss: 0.1598 - accuracy: 0.9421 - val_loss: 0.4781 - val_accuracy: 0.8326\n",
      "Epoch 20/20\n",
      "196/196 [==============================] - 3s 17ms/step - loss: 0.1513 - accuracy: 0.9458 - val_loss: 0.5018 - val_accuracy: 0.8321\n"
     ]
    }
   ],
   "source": [
    "# 학습의 진행\n",
    "model_Word2Vec_2.compile(optimizer='adam',\n",
    "              loss='binary_crossentropy',\n",
    "              metrics=['accuracy'])\n",
    "              \n",
    "epochs=20  # 몇 epoch를 훈련하면 좋을지 결과를 보면서 바꾸어 봅시다. \n",
    "\n",
    "history_4 = model_Word2Vec_2.fit(partial_x_train,\n",
    "                    partial_y_train,\n",
    "                    epochs=epochs,\n",
    "                    batch_size=512,\n",
    "                    validation_data=(x_val, y_val),\n",
    "                    verbose=1)"
   ]
  },
  {
   "cell_type": "code",
   "execution_count": 78,
   "metadata": {},
   "outputs": [
    {
     "name": "stdout",
     "output_type": "stream",
     "text": [
      "1537/1537 - 1s - loss: 0.5145 - accuracy: 0.8279 - 1s/epoch - 890us/step\n",
      "[0.5144701600074768, 0.8279390335083008]\n"
     ]
    }
   ],
   "source": [
    "# 테스트셋을 통한 모델 평가\n",
    "results = model_Word2Vec_2.evaluate(x_test,  y_test, verbose=2)\n",
    "\n",
    "print(results)"
   ]
  },
  {
   "cell_type": "code",
   "execution_count": 79,
   "metadata": {},
   "outputs": [],
   "source": [
    "from gensim.models import Word2Vec\n",
    "word_vectors = Word2Vec.load(word2vec_model_path).wv\n",
    "vocab_size = 10000    # 어휘 사전의 크기입니다(10,000개의 단어)\n",
    "word_vector_dim = 100  # 워드 벡터의 차원수\n",
    "embedding_matrix = np.random.rand(vocab_size, word_vector_dim)\n",
    "\n",
    "# embedding_matrix에 Word2Vec 워드 벡터를 단어 하나씩마다 차례차례 카피한다.\n",
    "for i in range(4,vocab_size):\n",
    "    if index_to_word[i] in word_vectors.key_to_index:\n",
    "        embedding_matrix[i] = word_vectors[index_to_word[i]]"
   ]
  },
  {
   "cell_type": "code",
   "execution_count": 80,
   "metadata": {},
   "outputs": [
    {
     "name": "stdout",
     "output_type": "stream",
     "text": [
      "Model: \"sequential_9\"\n",
      "_________________________________________________________________\n",
      " Layer (type)                Output Shape              Param #   \n",
      "=================================================================\n",
      " embedding_9 (Embedding)     (None, 48, 100)           1000000   \n",
      "                                                                 \n",
      " lstm_4 (LSTM)               (None, 8)                 3488      \n",
      "                                                                 \n",
      " dense_18 (Dense)            (None, 8)                 72        \n",
      "                                                                 \n",
      " dense_19 (Dense)            (None, 1)                 9         \n",
      "                                                                 \n",
      "=================================================================\n",
      "Total params: 1003569 (3.83 MB)\n",
      "Trainable params: 1003569 (3.83 MB)\n",
      "Non-trainable params: 0 (0.00 Byte)\n",
      "_________________________________________________________________\n"
     ]
    }
   ],
   "source": [
    "# model_1 방식으로 embedding_Matrix만 추가하여 실험\n",
    "model_Word2Vec_1 = tf.keras.Sequential()\n",
    "model_Word2Vec_1.add(tf.keras.layers.Embedding(vocab_size, \n",
    "                                 word_vector_dim, \n",
    "                                 embeddings_initializer=Constant(embedding_matrix),  # 카피한 임베딩을 여기서 활용\n",
    "                                 input_length=maxlen, \n",
    "                                 trainable=True))   # trainable을 True로 주면 Fine-tuning\n",
    "model_Word2Vec_1.add(tf.keras.layers.LSTM(8))\n",
    "model_Word2Vec_1.add(tf.keras.layers.Dense(8,activation='relu'))\n",
    "model_Word2Vec_1.add(tf.keras.layers.Dense(1,activation='sigmoid'))\n",
    "\n",
    "model_Word2Vec_1.summary()"
   ]
  },
  {
   "cell_type": "code",
   "execution_count": 81,
   "metadata": {},
   "outputs": [
    {
     "name": "stdout",
     "output_type": "stream",
     "text": [
      "Epoch 1/20\n",
      "196/196 [==============================] - 7s 30ms/step - loss: 0.6266 - accuracy: 0.6576 - val_loss: 0.5143 - val_accuracy: 0.7578\n",
      "Epoch 2/20\n",
      "196/196 [==============================] - 5s 28ms/step - loss: 0.4524 - accuracy: 0.7923 - val_loss: 0.4112 - val_accuracy: 0.8146\n",
      "Epoch 3/20\n",
      "196/196 [==============================] - 6s 28ms/step - loss: 0.3839 - accuracy: 0.8319 - val_loss: 0.3818 - val_accuracy: 0.8317\n",
      "Epoch 4/20\n",
      "196/196 [==============================] - 5s 28ms/step - loss: 0.3504 - accuracy: 0.8496 - val_loss: 0.3705 - val_accuracy: 0.8388\n",
      "Epoch 5/20\n",
      "196/196 [==============================] - 5s 27ms/step - loss: 0.3290 - accuracy: 0.8617 - val_loss: 0.3630 - val_accuracy: 0.8421\n",
      "Epoch 6/20\n",
      "196/196 [==============================] - 5s 28ms/step - loss: 0.3119 - accuracy: 0.8709 - val_loss: 0.3616 - val_accuracy: 0.8449\n",
      "Epoch 7/20\n",
      "196/196 [==============================] - 6s 28ms/step - loss: 0.2981 - accuracy: 0.8778 - val_loss: 0.3618 - val_accuracy: 0.8439\n",
      "Epoch 8/20\n",
      "196/196 [==============================] - 5s 27ms/step - loss: 0.2870 - accuracy: 0.8841 - val_loss: 0.3628 - val_accuracy: 0.8449\n",
      "Epoch 9/20\n",
      "196/196 [==============================] - 5s 27ms/step - loss: 0.2770 - accuracy: 0.8896 - val_loss: 0.3643 - val_accuracy: 0.8462\n",
      "Epoch 10/20\n",
      "196/196 [==============================] - 6s 28ms/step - loss: 0.2673 - accuracy: 0.8936 - val_loss: 0.3683 - val_accuracy: 0.8453\n",
      "Epoch 11/20\n",
      "196/196 [==============================] - 5s 27ms/step - loss: 0.2594 - accuracy: 0.8982 - val_loss: 0.3744 - val_accuracy: 0.8453\n",
      "Epoch 12/20\n",
      "196/196 [==============================] - 5s 28ms/step - loss: 0.2514 - accuracy: 0.9023 - val_loss: 0.3771 - val_accuracy: 0.8453\n",
      "Epoch 13/20\n",
      "196/196 [==============================] - 6s 29ms/step - loss: 0.2436 - accuracy: 0.9061 - val_loss: 0.3818 - val_accuracy: 0.8445\n",
      "Epoch 14/20\n",
      "196/196 [==============================] - 6s 29ms/step - loss: 0.2359 - accuracy: 0.9094 - val_loss: 0.3843 - val_accuracy: 0.8436\n",
      "Epoch 15/20\n",
      "196/196 [==============================] - 6s 28ms/step - loss: 0.2289 - accuracy: 0.9133 - val_loss: 0.3931 - val_accuracy: 0.8425\n",
      "Epoch 16/20\n",
      "196/196 [==============================] - 6s 28ms/step - loss: 0.2225 - accuracy: 0.9162 - val_loss: 0.3986 - val_accuracy: 0.8436\n",
      "Epoch 17/20\n",
      "196/196 [==============================] - 5s 27ms/step - loss: 0.2158 - accuracy: 0.9189 - val_loss: 0.4047 - val_accuracy: 0.8423\n",
      "Epoch 18/20\n",
      "196/196 [==============================] - 5s 27ms/step - loss: 0.2096 - accuracy: 0.9216 - val_loss: 0.4121 - val_accuracy: 0.8421\n",
      "Epoch 19/20\n",
      "196/196 [==============================] - 6s 28ms/step - loss: 0.2030 - accuracy: 0.9248 - val_loss: 0.4129 - val_accuracy: 0.8416\n",
      "Epoch 20/20\n",
      "196/196 [==============================] - 5s 28ms/step - loss: 0.1974 - accuracy: 0.9272 - val_loss: 0.4254 - val_accuracy: 0.8405\n"
     ]
    }
   ],
   "source": [
    "# 학습의 진행\n",
    "model_Word2Vec_1.compile(optimizer='adam',\n",
    "              loss='binary_crossentropy',\n",
    "              metrics=['accuracy'])\n",
    "            \n",
    "\n",
    "history_5 = model_Word2Vec_1.fit(partial_x_train,\n",
    "                    partial_y_train,\n",
    "                    epochs=epochs,\n",
    "                    batch_size=512,\n",
    "                    validation_data=(x_val, y_val),\n",
    "                    verbose=1)"
   ]
  },
  {
   "cell_type": "code",
   "execution_count": 82,
   "metadata": {},
   "outputs": [
    {
     "name": "stdout",
     "output_type": "stream",
     "text": [
      "1537/1537 - 3s - loss: 0.4308 - accuracy: 0.8395 - 3s/epoch - 2ms/step\n",
      "[0.4307940900325775, 0.8395141959190369]\n"
     ]
    }
   ],
   "source": [
    "# 테스트셋을 통한 모델 평가\n",
    "results = model_Word2Vec_1.evaluate(x_test,  y_test, verbose=2)\n",
    "\n",
    "print(results)"
   ]
  },
  {
   "cell_type": "markdown",
   "metadata": {},
   "source": [
    "## 회고\n",
    "\n",
    "1. 3가지 모델을 가지고 실험을 진행한 결과, LSTM과 BiLSTM이 서로 학습되는 그래프가 비슷했고 1D Conv 모델의 경우 2 모델과 학습되는 그래프에서 눈으로 확인할 수 있을 정도의 차이가 발생했고 test accuracy를 확인한 결과 확실히 RNN기반의 모델이 성능이 더 높은 것을 확인할 수 있었다.\n",
    "\n",
    "2. 정확도 상으로는 RNN기반 모델이 성능이 더 좋았지만 임베딩을 통한 단어 유사도를 확인하였을 때, LSTM과 Conv모델의 경우 어느정도 사람이 납득할 수 있는 단어들을 유사하다고 평가했지만 BiLSTM의 경우 사람이 느끼기에 유사하다고 하기 힘든 단어들을 매칭하는 결과를 확인할 수 있어서 신기하였다.\n",
    "\n",
    "3. 정확도와 단어 유사도를 확인한 결과가 달랐던 만큼 그 이유를 앞으로 정리해보는 것도 의미있는 발전이 될 것 같다. 이후에 개인적으로 추가 학습할 예정이다.\n",
    "\n",
    "4. 사전 훈련된 임베딩 메트릭스를 사용할 때에는 여러 모델과 비교 실험 시, 학습 과정에서 임베딩 메트릭스가 변하므로 이를 고려하여 실험을 진행해야 하는 사실을 알 수 있었다."
   ]
  }
 ],
 "metadata": {
  "kernelspec": {
   "display_name": "GPU",
   "language": "python",
   "name": "python3"
  },
  "language_info": {
   "codemirror_mode": {
    "name": "ipython",
    "version": 3
   },
   "file_extension": ".py",
   "mimetype": "text/x-python",
   "name": "python",
   "nbconvert_exporter": "python",
   "pygments_lexer": "ipython3",
   "version": "3.8.20"
  }
 },
 "nbformat": 4,
 "nbformat_minor": 2
}
