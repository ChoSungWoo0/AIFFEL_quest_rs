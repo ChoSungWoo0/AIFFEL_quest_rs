{
 "cells": [
  {
   "cell_type": "markdown",
   "metadata": {},
   "source": [
    "## GPT 구현하기"
   ]
  },
  {
   "cell_type": "markdown",
   "metadata": {},
   "source": [
    "Transformer와 비교해 변경이 필요한 부분\n",
    "- positional encoding을 따로 추가하는게 아니라 Embedding layer에서 같이 학습될 수 있도록 구성해야함\n",
    "- Encoder-Decoder 구조가 아닌 Decoder만 활용한 모델 구조로 변경\n",
    "- masked self Attention만 사용하므로 look ahead mask만 활용\n",
    "- Unsupervised Learning 이므로 pre-training시 target 데이터는 입력 데이터를 right-shift 시킨 형태로 구성"
   ]
  },
  {
   "cell_type": "code",
   "execution_count": 1,
   "metadata": {},
   "outputs": [
    {
     "name": "stderr",
     "output_type": "stream",
     "text": [
      "2025-02-17 16:38:26.389599: I tensorflow/core/platform/cpu_feature_guard.cc:182] This TensorFlow binary is optimized to use available CPU instructions in performance-critical operations.\n",
      "To enable the following instructions: AVX2 FMA, in other operations, rebuild TensorFlow with the appropriate compiler flags.\n",
      "2025-02-17 16:38:26.904202: W tensorflow/compiler/tf2tensorrt/utils/py_utils.cc:38] TF-TRT Warning: Could not find TensorRT\n"
     ]
    }
   ],
   "source": [
    "import tensorflow as tf\n",
    "import numpy as np"
   ]
  },
  {
   "cell_type": "markdown",
   "metadata": {},
   "source": [
    "#### 모델 구조 만들기"
   ]
  },
  {
   "cell_type": "markdown",
   "metadata": {},
   "source": [
    "#### positional encoding을 따로 추가하는게 아니라 Embedding layer에서 같이 학습될 수 있도록 구성"
   ]
  },
  {
   "cell_type": "code",
   "execution_count": 2,
   "metadata": {},
   "outputs": [],
   "source": [
    "class LearnedPositionalEmbedding(tf.keras.layers.Layer):\n",
    "    def __init__(self, max_position, d_model):\n",
    "        super(LearnedPositionalEmbedding, self).__init__()\n",
    "        self.pos_embedding = tf.keras.layers.Embedding(max_position, d_model)\n",
    "    \n",
    "    def call(self, inputs):\n",
    "        seq_len = tf.shape(inputs)[1]\n",
    "        position = tf.range(seq_len, dtype=tf.int32)  # (seq_len,)\n",
    "        position_embeddings = self.pos_embedding(position)  # (seq_len, d_model)\n",
    "        position_embeddings = tf.expand_dims(position_embeddings, axis=0)  # (1, seq_len, d_model)\n",
    "        return inputs + position_embeddings\n",
    "\n",
    "\n",
    "class GPTEmbedding(tf.keras.layers.Layer):\n",
    "    def __init__(self, vocab_size, d_model, max_position):\n",
    "        super(GPTEmbedding, self).__init__()\n",
    "        self.token_embedding = tf.keras.layers.Embedding(vocab_size, d_model)\n",
    "        self.position_embedding = LearnedPositionalEmbedding(max_position, d_model)\n",
    "    \n",
    "    def call(self, inputs):\n",
    "        token_embeddings = self.token_embedding(inputs)  # (batch, seq_len, d_model)\n",
    "        return self.position_embedding(token_embeddings)  # 위치 인코딩 적용\n",
    "\n",
    "# 사용 예시\n",
    "vocab_size = 10000\n",
    "d_model = 512\n",
    "MAX_Length = 1024 #문장 최대 길이\n",
    "\n",
    "gpt_embedding = GPTEmbedding(vocab_size, d_model, MAX_Length)\n"
   ]
  },
  {
   "cell_type": "code",
   "execution_count": 3,
   "metadata": {},
   "outputs": [
    {
     "name": "stdout",
     "output_type": "stream",
     "text": [
      "슝=3\n"
     ]
    }
   ],
   "source": [
    "# 스케일드 닷 프로덕트 어텐션 함수\n",
    "def scaled_dot_product_attention(query, key, value, mask):\n",
    "  # 어텐션 가중치는 Q와 K의 닷 프로덕트\n",
    "  matmul_qk = tf.matmul(query, key, transpose_b=True)\n",
    "\n",
    "  # 가중치를 정규화\n",
    "  depth = tf.cast(tf.shape(key)[-1], tf.float32)\n",
    "  logits = matmul_qk / tf.math.sqrt(depth)\n",
    "\n",
    "  # 패딩에 마스크 추가\n",
    "  if mask is not None:\n",
    "    logits += (mask * -1e9)\n",
    "\n",
    "  # softmax적용\n",
    "  attention_weights = tf.nn.softmax(logits, axis=-1)\n",
    "\n",
    "  # 최종 어텐션은 가중치와 V의 닷 프로덕트\n",
    "  output = tf.matmul(attention_weights, value)\n",
    "  return output\n",
    "\n",
    "print(\"슝=3\")"
   ]
  },
  {
   "cell_type": "code",
   "execution_count": 4,
   "metadata": {},
   "outputs": [
    {
     "name": "stdout",
     "output_type": "stream",
     "text": [
      "슝=3\n"
     ]
    }
   ],
   "source": [
    "class MultiHeadAttention(tf.keras.layers.Layer):\n",
    "\n",
    "  def __init__(self, d_model, num_heads, name=\"multi_head_attention\"):\n",
    "    super(MultiHeadAttention, self).__init__(name=name)\n",
    "    self.num_heads = num_heads\n",
    "    self.d_model = d_model\n",
    "\n",
    "    assert d_model % self.num_heads == 0 # 나누어 떨어지지 않으면 수행 불가\n",
    "\n",
    "    self.depth = d_model // self.num_heads # 여기가 Q,K,V가 muti-head로 나뉘었을 때의 차원 수\n",
    "\n",
    "    self.query_dense = tf.keras.layers.Dense(units=d_model)\n",
    "    self.key_dense = tf.keras.layers.Dense(units=d_model)\n",
    "    self.value_dense = tf.keras.layers.Dense(units=d_model) # 아직 어텐션 계산 전 형태\n",
    "\n",
    "    self.dense = tf.keras.layers.Dense(units=d_model)# 다음 레이어로 넘어가는 최종 레이어 \n",
    "\n",
    "  def split_heads(self, inputs, batch_size):\n",
    "    inputs = tf.reshape(\n",
    "        inputs, shape=(batch_size, -1, self.num_heads, self.depth))# -1은 입력 문장의 길이\n",
    "    return tf.transpose(inputs, perm=[0, 2, 1, 3])# (batch_size, num_heads, seq_len, depth)\n",
    "\n",
    "  def call(self, inputs):\n",
    "    query, key, value, mask = inputs['query'], inputs['key'], inputs[\n",
    "        'value'], inputs['mask']\n",
    "    batch_size = tf.shape(query)[0]\n",
    "\n",
    "    # Q, K, V에 각각 Dense를 적용합니다\n",
    "    query = self.query_dense(query)\n",
    "    key = self.key_dense(key)\n",
    "    value = self.value_dense(value)\n",
    "\n",
    "    # 병렬 연산을 위한 머리를 여러 개 만듭니다\n",
    "    query = self.split_heads(query, tf.shape(query)[0])\n",
    "    key = self.split_heads(key, tf.shape(key)[0])\n",
    "    value = self.split_heads(value, tf.shape(value)[0])\n",
    "\n",
    "    # 스케일드 닷 프로덕트 어텐션 함수\n",
    "    scaled_attention = scaled_dot_product_attention(query, key, value, mask)\n",
    "\n",
    "    scaled_attention = tf.transpose(scaled_attention, perm=[0, 2, 1, 3])\n",
    "\n",
    "    # 어텐션 연산 후에 각 결과를 다시 연결(concatenate)합니다\n",
    "    concat_attention = tf.reshape(scaled_attention,\n",
    "                                  (batch_size, -1, self.d_model))# (batch_size, seq_len, d_model)\n",
    "\n",
    "    # 최종 결과에도 Dense를 한 번 더 적용합니다\n",
    "    outputs = self.dense(concat_attention)\n",
    "\n",
    "    return outputs\n",
    "print(\"슝=3\")"
   ]
  },
  {
   "cell_type": "code",
   "execution_count": 5,
   "metadata": {},
   "outputs": [
    {
     "name": "stdout",
     "output_type": "stream",
     "text": [
      "슝=3\n"
     ]
    }
   ],
   "source": [
    "def create_padding_mask(x):\n",
    "  mask = tf.cast(tf.math.equal(x, 0), tf.float32)\n",
    "  # (batch_size, 1, 1, sequence length)\n",
    "  return mask[:, tf.newaxis, tf.newaxis , : ]\n",
    "print(\"슝=3\")"
   ]
  },
  {
   "cell_type": "code",
   "execution_count": 6,
   "metadata": {},
   "outputs": [
    {
     "name": "stdout",
     "output_type": "stream",
     "text": [
      "슝=3\n"
     ]
    }
   ],
   "source": [
    "def create_look_ahead_mask(x):\n",
    "  seq_len = tf.shape(x)[1]\n",
    "  look_ahead_mask = 1 - tf.linalg.band_part(tf.ones((seq_len, seq_len)), -1, 0)\n",
    "  padding_mask = create_padding_mask(x)\n",
    "  return tf.maximum(look_ahead_mask, padding_mask)\n",
    "print(\"슝=3\")"
   ]
  },
  {
   "cell_type": "markdown",
   "metadata": {},
   "source": [
    "#### masked self Attention만 사용하므로 look ahead mask만 활용"
   ]
  },
  {
   "cell_type": "code",
   "execution_count": null,
   "metadata": {},
   "outputs": [
    {
     "name": "stdout",
     "output_type": "stream",
     "text": [
      "슝=3\n"
     ]
    }
   ],
   "source": [
    "# 디코더 하나의 레이어를 함수로 구현.\n",
    "# 이 하나의 레이어 안에는 두 개의 서브 레이어가 존재합니다.\n",
    "def decoder_layer(units, d_model, num_heads, name=\"decoder_layer\"):\n",
    "  inputs = tf.keras.Input(shape=(None, d_model), name=\"inputs\")\n",
    "  look_ahead_mask = tf.keras.Input(\n",
    "      shape=(1, None, None), name=\"look_ahead_mask\")\n",
    "\n",
    "  # 첫 번째 서브 레이어 : 마스크드 멀티 헤드 어텐션 수행(셀프 어텐션)\n",
    "  attention = MultiHeadAttention(\n",
    "      d_model, num_heads, name=\"attention\")(inputs={\n",
    "          'query': inputs,\n",
    "          'key': inputs,\n",
    "          'value': inputs,\n",
    "          'mask': look_ahead_mask\n",
    "      })\n",
    "\n",
    "  # 멀티 헤드 어텐션의 결과는 LayerNormalization이라는 훈련을 돕는 테크닉을 수행\n",
    "  attention = tf.keras.layers.LayerNormalization(\n",
    "      epsilon=1e-6)(attention + inputs)\n",
    "\n",
    "  # 두 번째 서브 레이어 :  Feed Forward  \n",
    "  outputs = tf.keras.layers.Dense(units=units, activation='relu')(attention)\n",
    "  outputs = tf.keras.layers.Dense(units=d_model)(outputs)\n",
    "\n",
    "  # 완전연결층의 결과는 LayerNormalization 수행\n",
    "  outputs = tf.keras.layers.LayerNormalization(\n",
    "      epsilon=1e-6)(attention + outputs)\n",
    "\n",
    "  return tf.keras.Model(\n",
    "      inputs=[inputs, look_ahead_mask],\n",
    "      outputs=outputs,\n",
    "      name=name)\n",
    "print(\"슝=3\")"
   ]
  },
  {
   "cell_type": "markdown",
   "metadata": {},
   "source": [
    "#### Encoder-Decoder 구조가 아닌 Decoder만 활용한 모델 구조로 변경"
   ]
  },
  {
   "cell_type": "code",
   "execution_count": 8,
   "metadata": {},
   "outputs": [
    {
     "name": "stdout",
     "output_type": "stream",
     "text": [
      "슝=3\n"
     ]
    }
   ],
   "source": [
    "def GPT(vocab_size,\n",
    "            num_layers,\n",
    "            units,\n",
    "            d_model,\n",
    "            num_heads,\n",
    "            MAX_Length,\n",
    "            name=\"GPT\"):\n",
    "  \n",
    "  inputs = tf.keras.Input(shape=(None,), name=\"inputs\")\n",
    "\n",
    "\n",
    "  # 디코더에서 미래의 토큰을 마스크 하기 위해서 사용합니다.\n",
    "  # 내부적으로 패딩 마스크도 포함되어져 있습니다.\n",
    "  look_ahead_mask = tf.keras.layers.Lambda(\n",
    "      create_look_ahead_mask,\n",
    "      output_shape=(1, None, None),\n",
    "      name='look_ahead_mask')(inputs)\n",
    "\n",
    "  # 포지셔널 인코딩 + 임베딩 층\n",
    "  embeddings = GPTEmbedding(vocab_size, d_model, MAX_Length)(inputs)\n",
    "\n",
    "  # num_layers만큼 쌓아올린 디코더의 층.\n",
    "  for i in range(num_layers):\n",
    "    outputs = decoder_layer(\n",
    "        units=units,\n",
    "        d_model=d_model,\n",
    "        num_heads=num_heads,\n",
    "        name=\"decoder_layer_{}\".format(i),\n",
    "    )([embeddings, look_ahead_mask])\n",
    "\n",
    "  # 완전연결층\n",
    "  outputs = tf.keras.layers.Dense(units=vocab_size, name=\"outputs\")(outputs)\n",
    "\n",
    "  return tf.keras.Model(inputs=[inputs], outputs=outputs, name=name)\n",
    "print(\"슝=3\")"
   ]
  },
  {
   "cell_type": "markdown",
   "metadata": {},
   "source": [
    "#### 데이터셋 준비"
   ]
  },
  {
   "cell_type": "code",
   "execution_count": 9,
   "metadata": {},
   "outputs": [
    {
     "data": {
      "text/html": [
       "<div>\n",
       "<style scoped>\n",
       "    .dataframe tbody tr th:only-of-type {\n",
       "        vertical-align: middle;\n",
       "    }\n",
       "\n",
       "    .dataframe tbody tr th {\n",
       "        vertical-align: top;\n",
       "    }\n",
       "\n",
       "    .dataframe thead th {\n",
       "        text-align: right;\n",
       "    }\n",
       "</style>\n",
       "<table border=\"1\" class=\"dataframe\">\n",
       "  <thead>\n",
       "    <tr style=\"text-align: right;\">\n",
       "      <th></th>\n",
       "      <th>Q</th>\n",
       "      <th>A</th>\n",
       "      <th>label</th>\n",
       "    </tr>\n",
       "  </thead>\n",
       "  <tbody>\n",
       "    <tr>\n",
       "      <th>0</th>\n",
       "      <td>12시 땡!</td>\n",
       "      <td>하루가 또 가네요.</td>\n",
       "      <td>0</td>\n",
       "    </tr>\n",
       "    <tr>\n",
       "      <th>1</th>\n",
       "      <td>1지망 학교 떨어졌어</td>\n",
       "      <td>위로해 드립니다.</td>\n",
       "      <td>0</td>\n",
       "    </tr>\n",
       "    <tr>\n",
       "      <th>2</th>\n",
       "      <td>3박4일 놀러가고 싶다</td>\n",
       "      <td>여행은 언제나 좋죠.</td>\n",
       "      <td>0</td>\n",
       "    </tr>\n",
       "    <tr>\n",
       "      <th>3</th>\n",
       "      <td>3박4일 정도 놀러가고 싶다</td>\n",
       "      <td>여행은 언제나 좋죠.</td>\n",
       "      <td>0</td>\n",
       "    </tr>\n",
       "    <tr>\n",
       "      <th>4</th>\n",
       "      <td>PPL 심하네</td>\n",
       "      <td>눈살이 찌푸려지죠.</td>\n",
       "      <td>0</td>\n",
       "    </tr>\n",
       "  </tbody>\n",
       "</table>\n",
       "</div>"
      ],
      "text/plain": [
       "                 Q            A  label\n",
       "0           12시 땡!   하루가 또 가네요.      0\n",
       "1      1지망 학교 떨어졌어    위로해 드립니다.      0\n",
       "2     3박4일 놀러가고 싶다  여행은 언제나 좋죠.      0\n",
       "3  3박4일 정도 놀러가고 싶다  여행은 언제나 좋죠.      0\n",
       "4          PPL 심하네   눈살이 찌푸려지죠.      0"
      ]
     },
     "execution_count": 9,
     "metadata": {},
     "output_type": "execute_result"
    }
   ],
   "source": [
    "import pandas as pd\n",
    "\n",
    "data = pd.read_csv('ChatbotData.csv')\n",
    "data.head()"
   ]
  },
  {
   "cell_type": "markdown",
   "metadata": {},
   "source": [
    "#### 데이터 전처리"
   ]
  },
  {
   "cell_type": "code",
   "execution_count": 10,
   "metadata": {},
   "outputs": [
    {
     "data": {
      "text/plain": [
       "0                          12시 땡!\n",
       "1                     1지망 학교 떨어졌어\n",
       "2                    3박4일 놀러가고 싶다\n",
       "3                 3박4일 정도 놀러가고 싶다\n",
       "4                         PPL 심하네\n",
       "                   ...           \n",
       "23641          티가 나니까 눈치가 보이는 거죠!\n",
       "23642               훔쳐보는 거 티나나봐요.\n",
       "23643                      설렜겠어요.\n",
       "23644    잘 헤어질 수 있는 사이 여부인 거 같아요.\n",
       "23645          도피성 결혼은 하지 않길 바라요.\n",
       "Name: text, Length: 23646, dtype: object"
      ]
     },
     "execution_count": 10,
     "metadata": {},
     "output_type": "execute_result"
    }
   ],
   "source": [
    "raw = pd.concat([data['Q'], data['A']], axis=0).reset_index(drop=True)\n",
    "raw = pd.DataFrame(raw, columns=['text'])\n",
    "raw['text']"
   ]
  },
  {
   "cell_type": "code",
   "execution_count": 11,
   "metadata": {},
   "outputs": [
    {
     "data": {
      "text/plain": [
       "19436"
      ]
     },
     "execution_count": 11,
     "metadata": {},
     "output_type": "execute_result"
    }
   ],
   "source": [
    "raw = raw.drop_duplicates().reset_index(drop=True)\n",
    "len(raw)"
   ]
  },
  {
   "cell_type": "code",
   "execution_count": 12,
   "metadata": {},
   "outputs": [
    {
     "name": "stdout",
     "output_type": "stream",
     "text": [
      "에스에스디 제품은 12개의 기능이 있습니다 가격은 1500원\n"
     ]
    }
   ],
   "source": [
    "import re\n",
    "\n",
    "def english_to_korean(word):\n",
    "    \"\"\"\n",
    "    영어 단어를 한글 발음으로 변환\n",
    "    예) SSD -> 에스에스디\n",
    "    \"\"\"\n",
    "    mapping = {\n",
    "        'a': '에이', 'b': '비', 'c': '씨', 'd': '디', 'e': '이',\n",
    "        'f': '에프', 'g': '지', 'h': '에이치', 'i': '아이',\n",
    "        'j': '제이', 'k': '케이', 'l': '엘', 'm': '엠',\n",
    "        'n': '엔', 'o': '오', 'p': '피', 'q': '큐',\n",
    "        'r': '알', 's': '에스', 't': '티', 'u': '유', \n",
    "        'v': '브이', 'w': '더블유', 'x': '엑스', 'y': '와이', 'z': '제트'\n",
    "    }\n",
    "    return \"\".join(mapping.get(ch.lower(), ch) for ch in word)\n",
    "\n",
    "def preprocess_korean_sentence(sentence, remove_stopwords=True):\n",
    "    \"\"\"\n",
    "    1. 앞뒤 공백 제거\n",
    "    2. 영어 단어는 한글 발음으로 변환 (예: SSD -> 에스에스디)\n",
    "    3. 최종적으로 한글 숫자 이외의 문자들을 제거\n",
    "    \"\"\"\n",
    "    # 1. 앞뒤 공백 제거\n",
    "    sentence = sentence.strip()\n",
    "       \n",
    "    # 2. 영어 변환: [A-Za-z]+ 패턴에 대해 영어 단어를 한글 발음으로 치환\n",
    "    sentence = re.sub(r'[A-Za-z]+', lambda m: english_to_korean(m.group()), sentence)\n",
    "    \n",
    "    # 3. 한글, 숫자, 공백을 제외한 문자 제거\n",
    "    sentence = re.sub(r'[^가-힣0-9\\s]', '', sentence)\n",
    "    \n",
    "    \n",
    "    return sentence\n",
    "\n",
    "# 예시 사용\n",
    "example_text = \"SSD 제품은 12개의 기능이 있습니다. 가격은 1500원.\"\n",
    "print(preprocess_korean_sentence(example_text, remove_stopwords=False))\n"
   ]
  },
  {
   "cell_type": "code",
   "execution_count": 13,
   "metadata": {},
   "outputs": [
    {
     "data": {
      "text/plain": [
       "'에스디카드 망가졌어'"
      ]
     },
     "execution_count": 13,
     "metadata": {},
     "output_type": "execute_result"
    }
   ],
   "source": [
    "preprocess_korean_sentence(raw.iloc[5]['text'])"
   ]
  },
  {
   "cell_type": "code",
   "execution_count": 14,
   "metadata": {},
   "outputs": [
    {
     "name": "stdout",
     "output_type": "stream",
     "text": [
      "              text          cleaned\n",
      "0           12시 땡!            12시 땡\n",
      "1      1지망 학교 떨어졌어      1지망 학교 떨어졌어\n",
      "2     3박4일 놀러가고 싶다     3박4일 놀러가고 싶다\n",
      "3  3박4일 정도 놀러가고 싶다  3박4일 정도 놀러가고 싶다\n",
      "4          PPL 심하네          피피엘 심하네\n"
     ]
    }
   ],
   "source": [
    "raw['cleaned'] = raw['text'].apply(preprocess_korean_sentence)\n",
    "print(raw.head())"
   ]
  },
  {
   "cell_type": "code",
   "execution_count": 15,
   "metadata": {},
   "outputs": [
    {
     "name": "stderr",
     "output_type": "stream",
     "text": [
      "/home/cho/anaconda3/envs/GPU/lib/python3.8/site-packages/tqdm/auto.py:21: TqdmWarning: IProgress not found. Please update jupyter and ipywidgets. See https://ipywidgets.readthedocs.io/en/stable/user_install.html\n",
      "  from .autonotebook import tqdm as notebook_tqdm\n"
     ]
    },
    {
     "name": "stdout",
     "output_type": "stream",
     "text": [
      "살짝 오래 걸릴 수 있어요. 스트레칭 한 번 해볼까요? 👐\n",
      "슝=3 \n"
     ]
    }
   ],
   "source": [
    "import tensorflow_datasets as tfds\n",
    "print(\"살짝 오래 걸릴 수 있어요. 스트레칭 한 번 해볼까요? 👐\")\n",
    "\n",
    "# 질문과 답변 데이터셋에 대해서 Vocabulary 생성\n",
    "tokenizer = tfds.deprecated.text.SubwordTextEncoder.build_from_corpus(raw['cleaned'], target_vocab_size=2**13)\n",
    "print(\"슝=3 \")"
   ]
  },
  {
   "cell_type": "code",
   "execution_count": 16,
   "metadata": {},
   "outputs": [
    {
     "name": "stdout",
     "output_type": "stream",
     "text": [
      "슝=3\n"
     ]
    }
   ],
   "source": [
    "# 시작 토큰과 종료 토큰에 고유한 정수를 부여합니다.\n",
    "START_TOKEN, END_TOKEN = [tokenizer.vocab_size], [tokenizer.vocab_size + 1]\n",
    "print(\"슝=3\")"
   ]
  },
  {
   "cell_type": "code",
   "execution_count": 17,
   "metadata": {},
   "outputs": [
    {
     "name": "stdout",
     "output_type": "stream",
     "text": [
      "START_TOKEN의 번호 : [9057]\n",
      "END_TOKEN의 번호 : [9058]\n"
     ]
    }
   ],
   "source": [
    "print('START_TOKEN의 번호 :' ,[tokenizer.vocab_size])\n",
    "print('END_TOKEN의 번호 :' ,[tokenizer.vocab_size + 1])"
   ]
  },
  {
   "cell_type": "code",
   "execution_count": 18,
   "metadata": {},
   "outputs": [
    {
     "name": "stdout",
     "output_type": "stream",
     "text": [
      "9059\n"
     ]
    }
   ],
   "source": [
    "# 시작 토큰과 종료 토큰을 고려하여 +2를 하여 단어장의 크기를 산정합니다.\n",
    "VOCAB_SIZE = tokenizer.vocab_size + 2\n",
    "print(VOCAB_SIZE)"
   ]
  },
  {
   "cell_type": "code",
   "execution_count": 20,
   "metadata": {},
   "outputs": [
    {
     "name": "stdout",
     "output_type": "stream",
     "text": [
      "정수 인코딩 후의 21번째 질문 샘플: [8740, 1932, 3154]\n"
     ]
    }
   ],
   "source": [
    "# 임의의 22번째 샘플에 대해서 정수 인코딩 작업을 수행.\n",
    "# 각 토큰을 고유한 정수로 변환\n",
    "print('정수 인코딩 후의 21번째 질문 샘플: {}'.format(tokenizer.encode(raw.iloc[21]['cleaned'])))"
   ]
  },
  {
   "cell_type": "code",
   "execution_count": 21,
   "metadata": {},
   "outputs": [
    {
     "data": {
      "image/png": "[encoded data removed]",
      "text/plain": [
       "<Figure size 800x400 with 1 Axes>"
      ]
     },
     "metadata": {},
     "output_type": "display_data"
    },
    {
     "name": "stdout",
     "output_type": "stream",
     "text": [
      "최대 길이: 27\n",
      "평균 길이: 5.01\n",
      "97% 백분위수: 10.0\n",
      "99% 백분위수: 12.0\n"
     ]
    }
   ],
   "source": [
    "import matplotlib.pyplot as plt\n",
    "import numpy as np\n",
    "\n",
    "# 질문과 답변의 토큰 길이 구하기\n",
    "raw_lengths = [len(tokenizer.encode(q)) for q in raw['cleaned']]\n",
    "\n",
    "# 길이 분포 시각화\n",
    "plt.figure(figsize=(8, 4))\n",
    "plt.hist(raw_lengths, bins=50, alpha=0.7, color='skyblue', label='Lengths')\n",
    "plt.axvline(x=np.percentile(raw_lengths, 97), color='b', linestyle='--', label='97 Percentile')\n",
    "plt.axvline(x=np.percentile(raw_lengths, 99), color='r', linestyle='--', label='99 Percentile')\n",
    "\n",
    "plt.xlabel('Sequence Length')\n",
    "plt.ylabel('Frequency')\n",
    "plt.title('Sequence Length Distribution')\n",
    "plt.legend()\n",
    "plt.grid(True)\n",
    "plt.show()\n",
    "\n",
    "# 통계 분석\n",
    "print(f\"최대 길이: {np.max(raw_lengths)}\")\n",
    "print(f\"평균 길이: {np.mean(raw_lengths):.2f}\")\n",
    "print(f\"97% 백분위수: {np.percentile(raw_lengths, 97)}\")\n",
    "print(f\"99% 백분위수: {np.percentile(raw_lengths, 99)}\")"
   ]
  },
  {
   "cell_type": "code",
   "execution_count": 22,
   "metadata": {},
   "outputs": [],
   "source": [
    "tokenizer.eos_token = '[END_TOKEN]'\n",
    "tokenizer.eos_token_id = END_TOKEN[0]\n",
    "\n",
    "tokenizer.sos_token = '[START_TOKEN]'\n",
    "tokenizer.sos_token_id = START_TOKEN[0]"
   ]
  },
  {
   "cell_type": "markdown",
   "metadata": {},
   "source": [
    "#### 모델 입력 구성"
   ]
  },
  {
   "cell_type": "markdown",
   "metadata": {},
   "source": [
    "#### Unsupervised Learning 이므로 pre-training시 target 데이터는 입력 데이터를 right-shift 시킨 형태로 구성"
   ]
  },
  {
   "cell_type": "code",
   "execution_count": 23,
   "metadata": {},
   "outputs": [
    {
     "name": "stdout",
     "output_type": "stream",
     "text": [
      "슝=3\n"
     ]
    }
   ],
   "source": [
    "# 샘플 99%를 활용하기 위해 최대 길이를 사용\n",
    "MAX_LENGTH = 12\n",
    "\n",
    "def create_auto_regressive_data(dataset, tokenizer=tokenizer, max_len=12):\n",
    "    inputs = []\n",
    "    targets = []\n",
    "    \n",
    "    for sentence in dataset:\n",
    "        # 문장을 토큰화하고 패딩을 추가\n",
    "        tokens = tokenizer.encode(sentence)  # 문장을 토큰화\n",
    "        tokens = tokens[:max_len-1]  # 문장의 길이를 max_len-1로 자르기 (최대 길이 초과 방지)\n",
    "        \n",
    "        # 입력과 타겟 시퀀스 생성\n",
    "        input_seq = [tokenizer.sos_token_id] + tokens\n",
    "        target_seq = [tokenizer.sos_token_id] + tokens[1:] + [tokenizer.eos_token_id]  # target은 한 칸 오른쪽으로 shift\n",
    "        \n",
    "        # 패딩\n",
    "        input_seq = input_seq + [0] * (max_len - len(input_seq)) #padding은 0\n",
    "        target_seq = target_seq + [0] * (max_len - len(target_seq))\n",
    "        \n",
    "        inputs.append(input_seq)\n",
    "        targets.append(target_seq)\n",
    "    \n",
    "    return inputs, targets\n",
    "print(\"슝=3\")"
   ]
  },
  {
   "cell_type": "code",
   "execution_count": 49,
   "metadata": {},
   "outputs": [
    {
     "name": "stdout",
     "output_type": "stream",
     "text": [
      "단어장의 크기 : 9059\n",
      "필터링 후의 질문 샘플 개수: 19436\n",
      "필터링 후의 답변 샘플 개수: 19436\n",
      "입력 데이터 : [[9057, 5982, 1576, 4174, 0, 0, 0, 0, 0, 0, 0, 0], [9057, 8850, 33, 1047, 8833, 841, 1462, 0, 0, 0, 0, 0], [9057, 8852, 1313, 3516, 8833, 2796, 51, 0, 0, 0, 0, 0]]\n",
      "출출력 데이터 : [[9057, 1576, 4174, 9058, 0, 0, 0, 0, 0, 0, 0, 0], [9057, 33, 1047, 8833, 841, 1462, 9058, 0, 0, 0, 0, 0], [9057, 1313, 3516, 8833, 2796, 51, 9058, 0, 0, 0, 0, 0]]\n"
     ]
    }
   ],
   "source": [
    "inputs, targets = create_auto_regressive_data(raw['cleaned'])\n",
    "print('단어장의 크기 :',(VOCAB_SIZE))\n",
    "print('필터링 후의 질문 샘플 개수: {}'.format(len(inputs)))\n",
    "print('필터링 후의 답변 샘플 개수: {}'.format(len(targets)))\n",
    "print('입력 데이터 : {}'.format(inputs[:3]))\n",
    "print('출출력 데이터 : {}'.format(targets[:3]))"
   ]
  },
  {
   "cell_type": "code",
   "execution_count": 25,
   "metadata": {},
   "outputs": [
    {
     "name": "stdout",
     "output_type": "stream",
     "text": [
      "슝=3\n",
      "Sample input batch: [[9057 5982 1576 4174    0    0    0    0    0    0    0    0]\n",
      " [9057 8850   33 1047 8833  841 1462    0    0    0    0    0]\n",
      " [9057 8852 1313 3516 8833 2796   51    0    0    0    0    0]\n",
      " [9057 8852 1313 3516 8833 1167 2796   51    0    0    0    0]\n",
      " [9057  448  448 9037 8952 8953 8833 3927    0    0    0    0]]\n",
      "Sample output batch: [[9057 1576 4174 9058    0    0    0    0    0    0    0    0]\n",
      " [9057   33 1047 8833  841 1462 9058    0    0    0    0    0]\n",
      " [9057 1313 3516 8833 2796   51 9058    0    0    0    0    0]\n",
      " [9057 1313 3516 8833 1167 2796   51 9058    0    0    0    0]\n",
      " [9057  448 9037 8952 8953 8833 3927 9058    0    0    0    0]]\n"
     ]
    },
    {
     "name": "stderr",
     "output_type": "stream",
     "text": [
      "2025-02-17 16:38:33.561900: I tensorflow/compiler/xla/stream_executor/cuda/cuda_gpu_executor.cc:981] could not open file to read NUMA node: /sys/bus/pci/devices/0000:08:00.0/numa_node\n",
      "Your kernel may have been built without NUMA support.\n",
      "2025-02-17 16:38:33.581458: I tensorflow/compiler/xla/stream_executor/cuda/cuda_gpu_executor.cc:981] could not open file to read NUMA node: /sys/bus/pci/devices/0000:08:00.0/numa_node\n",
      "Your kernel may have been built without NUMA support.\n",
      "2025-02-17 16:38:33.581541: I tensorflow/compiler/xla/stream_executor/cuda/cuda_gpu_executor.cc:981] could not open file to read NUMA node: /sys/bus/pci/devices/0000:08:00.0/numa_node\n",
      "Your kernel may have been built without NUMA support.\n",
      "2025-02-17 16:38:33.586797: I tensorflow/compiler/xla/stream_executor/cuda/cuda_gpu_executor.cc:981] could not open file to read NUMA node: /sys/bus/pci/devices/0000:08:00.0/numa_node\n",
      "Your kernel may have been built without NUMA support.\n",
      "2025-02-17 16:38:33.586856: I tensorflow/compiler/xla/stream_executor/cuda/cuda_gpu_executor.cc:981] could not open file to read NUMA node: /sys/bus/pci/devices/0000:08:00.0/numa_node\n",
      "Your kernel may have been built without NUMA support.\n",
      "2025-02-17 16:38:33.586887: I tensorflow/compiler/xla/stream_executor/cuda/cuda_gpu_executor.cc:981] could not open file to read NUMA node: /sys/bus/pci/devices/0000:08:00.0/numa_node\n",
      "Your kernel may have been built without NUMA support.\n",
      "2025-02-17 16:38:33.715524: I tensorflow/compiler/xla/stream_executor/cuda/cuda_gpu_executor.cc:981] could not open file to read NUMA node: /sys/bus/pci/devices/0000:08:00.0/numa_node\n",
      "Your kernel may have been built without NUMA support.\n",
      "2025-02-17 16:38:33.715620: I tensorflow/compiler/xla/stream_executor/cuda/cuda_gpu_executor.cc:981] could not open file to read NUMA node: /sys/bus/pci/devices/0000:08:00.0/numa_node\n",
      "Your kernel may have been built without NUMA support.\n",
      "2025-02-17 16:38:33.715629: I tensorflow/core/common_runtime/gpu/gpu_device.cc:1726] Could not identify NUMA node of platform GPU id 0, defaulting to 0.  Your kernel may not have been built with NUMA support.\n",
      "2025-02-17 16:38:33.715672: I tensorflow/compiler/xla/stream_executor/cuda/cuda_gpu_executor.cc:981] could not open file to read NUMA node: /sys/bus/pci/devices/0000:08:00.0/numa_node\n",
      "Your kernel may have been built without NUMA support.\n",
      "2025-02-17 16:38:33.715699: I tensorflow/core/common_runtime/gpu/gpu_device.cc:1639] Created device /job:localhost/replica:0/task:0/device:GPU:0 with 9711 MB memory:  -> device: 0, name: NVIDIA GeForce RTX 3060, pci bus id: 0000:08:00.0, compute capability: 8.6\n",
      "2025-02-17 16:38:34.017146: W tensorflow/core/kernels/data/cache_dataset_ops.cc:854] The calling iterator did not fully read the dataset being cached. In order to avoid unexpected truncation of the dataset, the partially cached contents of the dataset  will be discarded. This can happen if you have an input pipeline similar to `dataset.cache().take(k).repeat()`. You should use `dataset.take(k).cache().repeat()` instead.\n"
     ]
    }
   ],
   "source": [
    "BATCH_SIZE = 64\n",
    "BUFFER_SIZE = 20000\n",
    "# numpy 배열로 변환 (필수)\n",
    "inputs = np.array(inputs, dtype=np.int32)\n",
    "outputs = np.array(targets, dtype=np.int32)\n",
    "\n",
    "# TensorFlow Dataset 생성\n",
    "dataset = tf.data.Dataset.from_tensor_slices((inputs, outputs))\n",
    "\n",
    "# 최적화 및 배치 적용\n",
    "dataset = dataset.cache()  # 데이터셋을 캐시하여 성능 최적화\n",
    "dataset = dataset.batch(BATCH_SIZE)  # 배치 크기 설정\n",
    "dataset = dataset.prefetch(tf.data.experimental.AUTOTUNE)  # 병렬 처리 최적화\n",
    "\n",
    "print(\"슝=3\")\n",
    "\n",
    "# 데이터 확인 (첫 번째 배치 출력)\n",
    "for batch in dataset.take(1):\n",
    "    input_batch, output_batch = batch\n",
    "    print(\"Sample input batch:\", input_batch.numpy()[:5])\n",
    "    print(\"Sample output batch:\", output_batch.numpy()[:5])"
   ]
  },
  {
   "cell_type": "markdown",
   "metadata": {},
   "source": [
    "#### 모델 인스턴스화"
   ]
  },
  {
   "cell_type": "code",
   "execution_count": 26,
   "metadata": {},
   "outputs": [
    {
     "name": "stdout",
     "output_type": "stream",
     "text": [
      "Model: \"GPT\"\n",
      "__________________________________________________________________________________________________\n",
      " Layer (type)                Output Shape                 Param #   Connected to                  \n",
      "==================================================================================================\n",
      " inputs (InputLayer)         [(None, None)]               0         []                            \n",
      "                                                                                                  \n",
      " gpt_embedding (GPTEmbeddin  (None, None, 256)            2322176   ['inputs[0][0]']              \n",
      " g)                                                                                               \n",
      "                                                                                                  \n",
      " look_ahead_mask (Lambda)    (None, 1, None, None)        0         ['inputs[0][0]']              \n",
      "                                                                                                  \n",
      " decoder_layer_11 (Function  (None, None, 256)            527104    ['gpt_embedding[0][0]',       \n",
      " al)                                                                 'look_ahead_mask[0][0]']     \n",
      "                                                                                                  \n",
      " outputs (Dense)             (None, None, 9059)           2328163   ['decoder_layer_11[0][0]']    \n",
      "                                                                                                  \n",
      "==================================================================================================\n",
      "Total params: 5177443 (19.75 MB)\n",
      "Trainable params: 5177443 (19.75 MB)\n",
      "Non-trainable params: 0 (0.00 Byte)\n",
      "__________________________________________________________________________________________________\n"
     ]
    }
   ],
   "source": [
    "tf.keras.backend.clear_session()\n",
    "\n",
    "# 하이퍼파라미터\n",
    "NUM_LAYERS = 12 # 디코더의 층의 개수\n",
    "D_MODEL = 256 # 디코더 내부의 입, 출력의 고정 차원\n",
    "NUM_HEADS = 8 # 멀티 헤드 어텐션에서의 헤드 수 \n",
    "UNITS = 512 # 피드 포워드 신경망의 은닉층의 크기\n",
    "\n",
    "model = GPT(\n",
    "    vocab_size=VOCAB_SIZE,\n",
    "    num_layers=NUM_LAYERS,\n",
    "    units=UNITS,\n",
    "    d_model=D_MODEL,\n",
    "    num_heads=NUM_HEADS,\n",
    "    MAX_Length=MAX_LENGTH)\n",
    "\n",
    "model.summary()"
   ]
  },
  {
   "cell_type": "code",
   "execution_count": 27,
   "metadata": {},
   "outputs": [],
   "source": [
    "def loss_function(y_true, y_pred):\n",
    "    \n",
    "    loss = tf.keras.losses.SparseCategoricalCrossentropy(from_logits=True, reduction='none')(y_true, y_pred)\n",
    "    \n",
    "    mask = tf.cast(tf.not_equal(y_true, 0), tf.float32)\n",
    "    loss = tf.multiply(loss, mask)\n",
    "    \n",
    "    return tf.reduce_mean(loss)\n"
   ]
  },
  {
   "cell_type": "code",
   "execution_count": 28,
   "metadata": {},
   "outputs": [
    {
     "name": "stdout",
     "output_type": "stream",
     "text": [
      "슝=3\n"
     ]
    }
   ],
   "source": [
    "class CustomSchedule(tf.keras.optimizers.schedules.LearningRateSchedule):\n",
    "\n",
    "  def __init__(self, d_model, warmup_steps=4000):\n",
    "    super(CustomSchedule, self).__init__()\n",
    "\n",
    "    self.d_model = d_model\n",
    "    self.d_model = tf.cast(self.d_model, tf.float32)\n",
    "\n",
    "    self.warmup_steps = warmup_steps\n",
    "\n",
    "  def __call__(self, step):\n",
    "    step = tf.cast(step, tf.float32)\n",
    "    arg1 = tf.math.rsqrt(step)\n",
    "    arg2 = step * (self.warmup_steps**-1.5)\n",
    "\n",
    "    return tf.math.rsqrt(self.d_model) * tf.math.minimum(arg1, arg2)\n",
    "print(\"슝=3\")"
   ]
  },
  {
   "cell_type": "code",
   "execution_count": 29,
   "metadata": {},
   "outputs": [
    {
     "name": "stdout",
     "output_type": "stream",
     "text": [
      "슝=3\n"
     ]
    }
   ],
   "source": [
    "learning_rate = CustomSchedule(D_MODEL)\n",
    "\n",
    "optimizer = tf.keras.optimizers.Adam(\n",
    "    learning_rate, beta_1=0.9, beta_2=0.98, epsilon=1e-9)\n",
    "\n",
    "def accuracy(y_true, y_pred):\n",
    "  y_true = tf.reshape(y_true, shape=(-1, MAX_LENGTH))\n",
    "  print(y_pred[:5])\n",
    "  return tf.keras.metrics.sparse_categorical_accuracy(y_true, y_pred)\n",
    "\n",
    "model.compile(optimizer=optimizer, loss=loss_function, metrics=[accuracy])\n",
    "print(\"슝=3\")"
   ]
  },
  {
   "cell_type": "markdown",
   "metadata": {},
   "source": [
    "#### 모델 학습"
   ]
  },
  {
   "cell_type": "code",
   "execution_count": 30,
   "metadata": {},
   "outputs": [
    {
     "name": "stdout",
     "output_type": "stream",
     "text": [
      "Epoch 1/100\n",
      "Tensor(\"strided_slice_1:0\", shape=(None, 12, 9059), dtype=float32)\n",
      "Tensor(\"strided_slice_1:0\", shape=(None, 12, 9059), dtype=float32)\n"
     ]
    },
    {
     "name": "stderr",
     "output_type": "stream",
     "text": [
      "2025-02-17 16:38:37.665571: I tensorflow/compiler/xla/stream_executor/cuda/cuda_blas.cc:606] TensorFloat-32 will be used for the matrix multiplication. This will only be logged once.\n",
      "2025-02-17 16:38:37.702923: I tensorflow/compiler/xla/service/service.cc:168] XLA service 0x7f7bc01c3200 initialized for platform CUDA (this does not guarantee that XLA will be used). Devices:\n",
      "2025-02-17 16:38:37.702966: I tensorflow/compiler/xla/service/service.cc:176]   StreamExecutor device (0): NVIDIA GeForce RTX 3060, Compute Capability 8.6\n",
      "2025-02-17 16:38:37.707286: I tensorflow/compiler/mlir/tensorflow/utils/dump_mlir_util.cc:255] disabling MLIR crash reproducer, set env var `MLIR_CRASH_REPRODUCER_DIRECTORY` to enable.\n",
      "2025-02-17 16:38:37.717420: I tensorflow/compiler/xla/stream_executor/cuda/cuda_dnn.cc:432] Loaded cuDNN version 8600\n",
      "2025-02-17 16:38:37.773514: I tensorflow/tsl/platform/default/subprocess.cc:304] Start cannot spawn child process: No such file or directory\n",
      "2025-02-17 16:38:37.810908: I ./tensorflow/compiler/jit/device_compiler.h:186] Compiled cluster using XLA!  This line is logged at most once for the lifetime of the process.\n"
     ]
    },
    {
     "name": "stdout",
     "output_type": "stream",
     "text": [
      "304/304 [==============================] - 24s 73ms/step - loss: 3.9412 - accuracy: 0.1265\n",
      "Epoch 2/100\n",
      "304/304 [==============================] - 6s 20ms/step - loss: 2.8790 - accuracy: 0.1671\n",
      "Epoch 3/100\n",
      "304/304 [==============================] - 6s 19ms/step - loss: 2.5808 - accuracy: 0.1736\n",
      "Epoch 4/100\n",
      "304/304 [==============================] - 6s 18ms/step - loss: 2.3538 - accuracy: 0.1841\n",
      "Epoch 5/100\n",
      "304/304 [==============================] - 6s 19ms/step - loss: 2.1151 - accuracy: 0.1974\n",
      "Epoch 6/100\n",
      "304/304 [==============================] - 6s 18ms/step - loss: 1.8646 - accuracy: 0.2121\n",
      "Epoch 7/100\n",
      "304/304 [==============================] - 5s 18ms/step - loss: 1.6118 - accuracy: 0.2271\n",
      "Epoch 8/100\n",
      "304/304 [==============================] - 6s 18ms/step - loss: 1.3687 - accuracy: 0.2421\n",
      "Epoch 9/100\n",
      "304/304 [==============================] - 6s 19ms/step - loss: 1.1438 - accuracy: 0.2602\n",
      "Epoch 10/100\n",
      "304/304 [==============================] - 6s 19ms/step - loss: 0.9540 - accuracy: 0.2855\n",
      "Epoch 11/100\n",
      "304/304 [==============================] - 6s 19ms/step - loss: 0.8059 - accuracy: 0.3136\n",
      "Epoch 12/100\n",
      "304/304 [==============================] - 6s 20ms/step - loss: 0.6783 - accuracy: 0.3410\n",
      "Epoch 13/100\n",
      "304/304 [==============================] - 6s 19ms/step - loss: 0.5790 - accuracy: 0.3638\n",
      "Epoch 14/100\n",
      "304/304 [==============================] - 6s 18ms/step - loss: 0.5083 - accuracy: 0.3800\n",
      "Epoch 15/100\n",
      "304/304 [==============================] - 6s 18ms/step - loss: 0.4592 - accuracy: 0.3916\n",
      "Epoch 16/100\n",
      "304/304 [==============================] - 5s 18ms/step - loss: 0.4139 - accuracy: 0.4026\n",
      "Epoch 17/100\n",
      "304/304 [==============================] - 5s 18ms/step - loss: 0.3877 - accuracy: 0.4085\n",
      "Epoch 18/100\n",
      "304/304 [==============================] - 5s 18ms/step - loss: 0.3593 - accuracy: 0.4149\n",
      "Epoch 19/100\n",
      "304/304 [==============================] - 5s 18ms/step - loss: 0.3462 - accuracy: 0.4179\n",
      "Epoch 20/100\n",
      "304/304 [==============================] - 5s 17ms/step - loss: 0.3203 - accuracy: 0.4223\n",
      "Epoch 21/100\n",
      "304/304 [==============================] - 5s 18ms/step - loss: 0.3066 - accuracy: 0.4254\n",
      "Epoch 22/100\n",
      "304/304 [==============================] - 5s 17ms/step - loss: 0.2949 - accuracy: 0.4270\n",
      "Epoch 23/100\n",
      "304/304 [==============================] - 5s 18ms/step - loss: 0.2868 - accuracy: 0.4295\n",
      "Epoch 24/100\n",
      "304/304 [==============================] - 5s 17ms/step - loss: 0.2784 - accuracy: 0.4301\n",
      "Epoch 25/100\n",
      "304/304 [==============================] - 5s 17ms/step - loss: 0.2707 - accuracy: 0.4316\n",
      "Epoch 26/100\n",
      "304/304 [==============================] - 5s 17ms/step - loss: 0.2659 - accuracy: 0.4321\n",
      "Epoch 27/100\n",
      "304/304 [==============================] - 5s 17ms/step - loss: 0.2599 - accuracy: 0.4335\n",
      "Epoch 28/100\n",
      "304/304 [==============================] - 5s 17ms/step - loss: 0.2577 - accuracy: 0.4337\n",
      "Epoch 29/100\n",
      "304/304 [==============================] - 5s 17ms/step - loss: 0.2522 - accuracy: 0.4346\n",
      "Epoch 30/100\n",
      "304/304 [==============================] - 5s 17ms/step - loss: 0.2477 - accuracy: 0.4355\n",
      "Epoch 31/100\n",
      "304/304 [==============================] - 5s 18ms/step - loss: 0.2459 - accuracy: 0.4357\n",
      "Epoch 32/100\n",
      "304/304 [==============================] - 5s 18ms/step - loss: 0.2395 - accuracy: 0.4362\n",
      "Epoch 33/100\n",
      "304/304 [==============================] - 5s 18ms/step - loss: 0.2348 - accuracy: 0.4369\n",
      "Epoch 34/100\n",
      "304/304 [==============================] - 5s 17ms/step - loss: 0.2325 - accuracy: 0.4370\n",
      "Epoch 35/100\n",
      "304/304 [==============================] - 5s 17ms/step - loss: 0.2263 - accuracy: 0.4378\n",
      "Epoch 36/100\n",
      "304/304 [==============================] - 5s 17ms/step - loss: 0.2264 - accuracy: 0.4378\n",
      "Epoch 37/100\n",
      "304/304 [==============================] - 5s 18ms/step - loss: 0.2212 - accuracy: 0.4387\n",
      "Epoch 38/100\n",
      "304/304 [==============================] - 5s 18ms/step - loss: 0.2176 - accuracy: 0.4385\n",
      "Epoch 39/100\n",
      "304/304 [==============================] - 5s 18ms/step - loss: 0.2113 - accuracy: 0.4398\n",
      "Epoch 40/100\n",
      "304/304 [==============================] - 5s 17ms/step - loss: 0.2119 - accuracy: 0.4396\n",
      "Epoch 41/100\n",
      "304/304 [==============================] - 5s 18ms/step - loss: 0.2089 - accuracy: 0.4401\n",
      "Epoch 42/100\n",
      "304/304 [==============================] - 5s 17ms/step - loss: 0.2062 - accuracy: 0.4402\n",
      "Epoch 43/100\n",
      "304/304 [==============================] - 6s 18ms/step - loss: 0.2025 - accuracy: 0.4407\n",
      "Epoch 44/100\n",
      "304/304 [==============================] - 6s 18ms/step - loss: 0.2031 - accuracy: 0.4406\n",
      "Epoch 45/100\n",
      "304/304 [==============================] - 5s 17ms/step - loss: 0.2005 - accuracy: 0.4409\n",
      "Epoch 46/100\n",
      "304/304 [==============================] - 5s 18ms/step - loss: 0.2015 - accuracy: 0.4402\n",
      "Epoch 47/100\n",
      "304/304 [==============================] - 5s 18ms/step - loss: 0.1986 - accuracy: 0.4408\n",
      "Epoch 48/100\n",
      "304/304 [==============================] - 6s 19ms/step - loss: 0.1967 - accuracy: 0.4405\n",
      "Epoch 49/100\n",
      "304/304 [==============================] - 6s 18ms/step - loss: 0.1949 - accuracy: 0.4409\n",
      "Epoch 50/100\n",
      "304/304 [==============================] - 6s 18ms/step - loss: 0.1962 - accuracy: 0.4404\n",
      "Epoch 51/100\n",
      "304/304 [==============================] - 6s 19ms/step - loss: 0.1945 - accuracy: 0.4407\n",
      "Epoch 52/100\n",
      "304/304 [==============================] - 6s 18ms/step - loss: 0.1925 - accuracy: 0.4410\n",
      "Epoch 53/100\n",
      "304/304 [==============================] - 6s 18ms/step - loss: 0.1929 - accuracy: 0.4409\n",
      "Epoch 54/100\n",
      "304/304 [==============================] - 6s 19ms/step - loss: 0.1916 - accuracy: 0.4412\n",
      "Epoch 55/100\n",
      "304/304 [==============================] - 6s 19ms/step - loss: 0.1939 - accuracy: 0.4403\n",
      "Epoch 56/100\n",
      "304/304 [==============================] - 6s 18ms/step - loss: 0.1923 - accuracy: 0.4405\n",
      "Epoch 57/100\n",
      "304/304 [==============================] - 5s 17ms/step - loss: 0.1933 - accuracy: 0.4403\n",
      "Epoch 58/100\n",
      "304/304 [==============================] - 5s 18ms/step - loss: 0.1907 - accuracy: 0.4409\n",
      "Epoch 59/100\n",
      "304/304 [==============================] - 6s 18ms/step - loss: 0.1913 - accuracy: 0.4406\n",
      "Epoch 60/100\n",
      "304/304 [==============================] - 5s 18ms/step - loss: 0.1892 - accuracy: 0.4408\n",
      "Epoch 61/100\n",
      "304/304 [==============================] - 6s 18ms/step - loss: 0.1891 - accuracy: 0.4409\n",
      "Epoch 62/100\n",
      "304/304 [==============================] - 5s 17ms/step - loss: 0.1892 - accuracy: 0.4409\n",
      "Epoch 63/100\n",
      "304/304 [==============================] - 5s 17ms/step - loss: 0.1883 - accuracy: 0.4407\n",
      "Epoch 64/100\n",
      "304/304 [==============================] - 5s 17ms/step - loss: 0.1873 - accuracy: 0.4406\n",
      "Epoch 65/100\n",
      "304/304 [==============================] - 5s 17ms/step - loss: 0.1854 - accuracy: 0.4412\n",
      "Epoch 66/100\n",
      "304/304 [==============================] - 5s 17ms/step - loss: 0.1840 - accuracy: 0.4410\n",
      "Epoch 67/100\n",
      "304/304 [==============================] - 5s 17ms/step - loss: 0.1840 - accuracy: 0.4411\n",
      "Epoch 68/100\n",
      "304/304 [==============================] - 5s 17ms/step - loss: 0.1823 - accuracy: 0.4417\n",
      "Epoch 69/100\n",
      "304/304 [==============================] - 5s 17ms/step - loss: 0.1813 - accuracy: 0.4419\n",
      "Epoch 70/100\n",
      "304/304 [==============================] - 6s 18ms/step - loss: 0.1772 - accuracy: 0.4421\n",
      "Epoch 71/100\n",
      "304/304 [==============================] - 6s 18ms/step - loss: 0.1766 - accuracy: 0.4425\n",
      "Epoch 72/100\n",
      "304/304 [==============================] - 6s 18ms/step - loss: 0.1759 - accuracy: 0.4428\n",
      "Epoch 73/100\n",
      "304/304 [==============================] - 6s 18ms/step - loss: 0.1741 - accuracy: 0.4429\n",
      "Epoch 74/100\n",
      "304/304 [==============================] - 5s 18ms/step - loss: 0.1734 - accuracy: 0.4428\n",
      "Epoch 75/100\n",
      "304/304 [==============================] - 5s 18ms/step - loss: 0.1726 - accuracy: 0.4432\n",
      "Epoch 76/100\n",
      "304/304 [==============================] - 5s 18ms/step - loss: 0.1713 - accuracy: 0.4431\n",
      "Epoch 77/100\n",
      "304/304 [==============================] - 5s 17ms/step - loss: 0.1707 - accuracy: 0.4437\n",
      "Epoch 78/100\n",
      "304/304 [==============================] - 5s 18ms/step - loss: 0.1702 - accuracy: 0.4436\n",
      "Epoch 79/100\n",
      "304/304 [==============================] - 5s 18ms/step - loss: 0.1695 - accuracy: 0.4436\n",
      "Epoch 80/100\n",
      "304/304 [==============================] - 5s 18ms/step - loss: 0.1693 - accuracy: 0.4435\n",
      "Epoch 81/100\n",
      "304/304 [==============================] - 5s 18ms/step - loss: 0.1686 - accuracy: 0.4439\n",
      "Epoch 82/100\n",
      "304/304 [==============================] - 5s 17ms/step - loss: 0.1696 - accuracy: 0.4435\n",
      "Epoch 83/100\n",
      "304/304 [==============================] - 5s 17ms/step - loss: 0.1679 - accuracy: 0.4437\n",
      "Epoch 84/100\n",
      "304/304 [==============================] - 5s 17ms/step - loss: 0.1664 - accuracy: 0.4437\n",
      "Epoch 85/100\n",
      "304/304 [==============================] - 5s 17ms/step - loss: 0.1687 - accuracy: 0.4436\n",
      "Epoch 86/100\n",
      "304/304 [==============================] - 5s 16ms/step - loss: 0.1679 - accuracy: 0.4437\n",
      "Epoch 87/100\n",
      "304/304 [==============================] - 5s 17ms/step - loss: 0.1670 - accuracy: 0.4439\n",
      "Epoch 88/100\n",
      "304/304 [==============================] - 5s 17ms/step - loss: 0.1667 - accuracy: 0.4436\n",
      "Epoch 89/100\n",
      "304/304 [==============================] - 5s 17ms/step - loss: 0.1661 - accuracy: 0.4440\n",
      "Epoch 90/100\n",
      "304/304 [==============================] - 5s 17ms/step - loss: 0.1657 - accuracy: 0.4436\n",
      "Epoch 91/100\n",
      "304/304 [==============================] - 5s 17ms/step - loss: 0.1649 - accuracy: 0.4440\n",
      "Epoch 92/100\n",
      "304/304 [==============================] - 5s 17ms/step - loss: 0.1654 - accuracy: 0.4439\n",
      "Epoch 93/100\n",
      "304/304 [==============================] - 5s 17ms/step - loss: 0.1641 - accuracy: 0.4441\n",
      "Epoch 94/100\n",
      "304/304 [==============================] - 5s 17ms/step - loss: 0.1641 - accuracy: 0.4436\n",
      "Epoch 95/100\n",
      "304/304 [==============================] - 5s 17ms/step - loss: 0.1635 - accuracy: 0.4440\n",
      "Epoch 96/100\n",
      "304/304 [==============================] - 5s 17ms/step - loss: 0.1636 - accuracy: 0.4440\n",
      "Epoch 97/100\n",
      "304/304 [==============================] - 5s 17ms/step - loss: 0.1630 - accuracy: 0.4442\n",
      "Epoch 98/100\n",
      "304/304 [==============================] - 5s 17ms/step - loss: 0.1626 - accuracy: 0.4442\n",
      "Epoch 99/100\n",
      "304/304 [==============================] - 5s 17ms/step - loss: 0.1636 - accuracy: 0.4443\n",
      "Epoch 100/100\n",
      "304/304 [==============================] - 5s 17ms/step - loss: 0.1648 - accuracy: 0.4438\n"
     ]
    },
    {
     "data": {
      "text/plain": [
       "<keras.src.callbacks.History at 0x7f7d1cac7820>"
      ]
     },
     "execution_count": 30,
     "metadata": {},
     "output_type": "execute_result"
    }
   ],
   "source": [
    "EPOCHS = 100\n",
    "model.fit(dataset, epochs=EPOCHS, verbose=1)"
   ]
  },
  {
   "cell_type": "markdown",
   "metadata": {},
   "source": [
    "### inference 결과 확인"
   ]
  },
  {
   "cell_type": "code",
   "execution_count": 57,
   "metadata": {},
   "outputs": [],
   "source": [
    "def decoder_inference(sentence):\n",
    "    # 입력 문장 전처리\n",
    "    sentence = preprocess_korean_sentence(sentence)\n",
    "\n",
    "    # 입력된 문장을 정수 인코딩 후, 시작 토큰과 종료 토큰을 앞뒤로 추가\n",
    "    sentence = tf.expand_dims(\n",
    "        START_TOKEN + tokenizer.encode(sentence) + END_TOKEN, axis=0)\n",
    "\n",
    "    # 디코더의 현재까지의 예측한 출력 시퀀스가 지속적으로 저장되는 변수\n",
    "    # 처음에는 예측한 내용이 없으므로 시작 토큰만 별도 저장\n",
    "    output_sequence = tf.expand_dims(START_TOKEN, 0)\n",
    "\n",
    "    # 디코더의 인퍼런스 단계 (auto-regressive 방식)\n",
    "    for i in range(MAX_LENGTH):\n",
    "        # 디코더는 최대 MAX_LENGTH의 길이만큼 다음 단어 예측을 반복합니다.\n",
    "        predictions = model(inputs=[sentence], training=False)\n",
    "        predictions = predictions[:, -1:, :]  # 마지막 예측만 사용\n",
    "\n",
    "        # 현재 예측한 단어의 정수 (예측된 값에서 argmax로 가장 큰 값을 선택)\n",
    "        predicted_id = tf.cast(tf.argmax(predictions, axis=-1), tf.int32)\n",
    "\n",
    "        # 만약 현재 예측한 단어가 종료 토큰이라면 for문을 종료\n",
    "        if tf.equal(predicted_id, END_TOKEN[0]):\n",
    "            break\n",
    "\n",
    "        # 예측한 단어들을 지속적으로 output_sequence에 추가\n",
    "        output_sequence = tf.concat([output_sequence, predicted_id], axis=-1)\n",
    "\n",
    "        # 예측한 단어를 입력 시퀀스에 추가\n",
    "        sentence = tf.concat([sentence, predicted_id], axis=-1)\n",
    "\n",
    "    return tf.squeeze(output_sequence, axis=0)"
   ]
  },
  {
   "cell_type": "code",
   "execution_count": 58,
   "metadata": {},
   "outputs": [
    {
     "name": "stdout",
     "output_type": "stream",
     "text": [
      "슝=3\n"
     ]
    }
   ],
   "source": [
    "def sentence_generation(sentence):\n",
    "  # 입력 문장에 대해서 디코더를 동작 시켜 예측된 정수 시퀀스를 리턴받습니다.\n",
    "  prediction = decoder_inference(sentence)\n",
    "\n",
    "  # 정수 시퀀스를 다시 텍스트 시퀀스로 변환합니다.\n",
    "  predicted_sentence = tokenizer.decode(\n",
    "      [i for i in prediction if i < tokenizer.vocab_size])\n",
    "\n",
    "  print('입력 : {}'.format(sentence))\n",
    "  print('출력 : {}'.format(predicted_sentence))\n",
    "\n",
    "  return predicted_sentence\n",
    "print(\"슝=3\")"
   ]
  },
  {
   "cell_type": "markdown",
   "metadata": {},
   "source": [
    "### 입력에 따른 출력 생성"
   ]
  },
  {
   "cell_type": "code",
   "execution_count": 62,
   "metadata": {},
   "outputs": [
    {
     "name": "stdout",
     "output_type": "stream",
     "text": [
      "입력 : 오늘 날씨는\n",
      "출력 : 않은 좋아하고 인 것 같습니다\n"
     ]
    },
    {
     "data": {
      "text/plain": [
       "'않은 좋아하고 인 것 같습니다'"
      ]
     },
     "execution_count": 62,
     "metadata": {},
     "output_type": "execute_result"
    }
   ],
   "source": [
    "sentence_generation('오늘 날씨는')"
   ]
  },
  {
   "cell_type": "code",
   "execution_count": 63,
   "metadata": {},
   "outputs": [
    {
     "name": "stdout",
     "output_type": "stream",
     "text": [
      "입력 : 배가 너무\n",
      "출력 : 와\n"
     ]
    },
    {
     "data": {
      "text/plain": [
       "'와'"
      ]
     },
     "execution_count": 63,
     "metadata": {},
     "output_type": "execute_result"
    }
   ],
   "source": [
    "sentence_generation('배가 너무')"
   ]
  },
  {
   "cell_type": "code",
   "execution_count": 64,
   "metadata": {},
   "outputs": [
    {
     "name": "stdout",
     "output_type": "stream",
     "text": [
      "입력 : 오늘\n",
      "출력 : 은 시작도 돼\n"
     ]
    },
    {
     "data": {
      "text/plain": [
       "'은 시작도 돼'"
      ]
     },
     "execution_count": 64,
     "metadata": {},
     "output_type": "execute_result"
    }
   ],
   "source": [
    "sentence_generation('오늘')"
   ]
  }
 ],
 "metadata": {
  "kernelspec": {
   "display_name": "GPU",
   "language": "python",
   "name": "python3"
  },
  "language_info": {
   "codemirror_mode": {
    "name": "ipython",
    "version": 3
   },
   "file_extension": ".py",
   "mimetype": "text/x-python",
   "name": "python",
   "nbconvert_exporter": "python",
   "pygments_lexer": "ipython3",
   "version": "3.8.20"
  }
 },
 "nbformat": 4,
 "nbformat_minor": 2
}
