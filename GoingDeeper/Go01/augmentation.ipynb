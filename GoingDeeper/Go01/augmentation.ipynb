{
 "cells": [
  {
   "cell_type": "code",
   "execution_count": 1,
   "id": "3f6d8273-0de9-48e7-ab4f-c2e5638bb669",
   "metadata": {},
   "outputs": [
    {
     "name": "stderr",
     "output_type": "stream",
     "text": [
      "/home/cho/anaconda3/envs/augmen/lib/python3.8/site-packages/tqdm/auto.py:21: TqdmWarning: IProgress not found. Please update jupyter and ipywidgets. See https://ipywidgets.readthedocs.io/en/stable/user_install.html\n",
      "  from .autonotebook import tqdm as notebook_tqdm\n"
     ]
    }
   ],
   "source": [
    "import pandas as pd\n",
    "from utils.BertAugmentation import BertAugmentation\n",
    "from utils.adverb_augmentation import AdverbAugmentation\n",
    "import transformers"
   ]
  },
  {
   "cell_type": "code",
   "execution_count": 2,
   "id": "98f6be27-3445-4bdd-ba5a-e29f06498477",
   "metadata": {},
   "outputs": [
    {
     "name": "stderr",
     "output_type": "stream",
     "text": [
      "Hardware accelerator e.g. GPU is available in the environment, but no `device` argument is passed to the `Pipeline` object. Model will be on CPU.\n"
     ]
    }
   ],
   "source": [
    "BERT_aug = BertAugmentation()\n",
    "random_masking_replacement = BERT_aug.random_masking_replacement\n",
    "random_masking_insertion = BERT_aug.random_masking_insertion"
   ]
  },
  {
   "cell_type": "markdown",
   "id": "7237afb4-e905-42ab-9e35-4e99242b4ba8",
   "metadata": {},
   "source": [
    "## BERT augmentation"
   ]
  },
  {
   "cell_type": "code",
   "execution_count": 3,
   "id": "8c81422c-9f0c-4965-ad4c-571af4304fbd",
   "metadata": {},
   "outputs": [],
   "source": [
    "sentence = \"아버지가 오늘 아침에 부엌에 있었다가 갑자기 일어나시더니 슬그머니 안방으로 들어가셨다.\"\n",
    "ratio = 0.15"
   ]
  },
  {
   "cell_type": "code",
   "execution_count": 4,
   "id": "960cc219-aa14-44f9-a1fb-494c3c3617d4",
   "metadata": {},
   "outputs": [
    {
     "name": "stdout",
     "output_type": "stream",
     "text": [
      "random_masking_replacement: 아버지가 잠시 부엌에 있었다가 갑자기 일어나시더니 슬그머니 안방으로 들어가셨다.\n",
      "random_insertion_replacement: 아버지가 오늘 아침에는 부엌에 와 있었다가 갑자기 일어나시더니 슬그머니 안방으로 들어가셨다.\n"
     ]
    }
   ],
   "source": [
    "print('random_masking_replacement:', random_masking_replacement(sentence, ratio))\n",
    "print('random_insertion_replacement:', random_masking_insertion(sentence, ratio))"
   ]
  },
  {
   "cell_type": "code",
   "execution_count": 5,
   "id": "9099190a",
   "metadata": {},
   "outputs": [
    {
     "data": {
      "text/html": [
       "<div>\n",
       "<style scoped>\n",
       "    .dataframe tbody tr th:only-of-type {\n",
       "        vertical-align: middle;\n",
       "    }\n",
       "\n",
       "    .dataframe tbody tr th {\n",
       "        vertical-align: top;\n",
       "    }\n",
       "\n",
       "    .dataframe thead th {\n",
       "        text-align: right;\n",
       "    }\n",
       "</style>\n",
       "<table border=\"1\" class=\"dataframe\">\n",
       "  <thead>\n",
       "    <tr style=\"text-align: right;\">\n",
       "      <th></th>\n",
       "      <th>idx</th>\n",
       "      <th>class</th>\n",
       "      <th>conversation</th>\n",
       "    </tr>\n",
       "  </thead>\n",
       "  <tbody>\n",
       "    <tr>\n",
       "      <th>0</th>\n",
       "      <td>0</td>\n",
       "      <td>협박 대화</td>\n",
       "      <td>지금 너 스스로를 죽여달라고 애원하는 것인가?\\n 아닙니다. 죄송합니다.\\n 죽을 ...</td>\n",
       "    </tr>\n",
       "    <tr>\n",
       "      <th>1</th>\n",
       "      <td>1</td>\n",
       "      <td>협박 대화</td>\n",
       "      <td>길동경찰서입니다.\\n9시 40분 마트에 폭발물을 설치할거다.\\n네?\\n똑바로 들어 ...</td>\n",
       "    </tr>\n",
       "    <tr>\n",
       "      <th>2</th>\n",
       "      <td>2</td>\n",
       "      <td>기타 괴롭힘 대화</td>\n",
       "      <td>너 되게 귀여운거 알지? 나보다 작은 남자는 첨봤어.\\n그만해. 니들 놀리는거 재미...</td>\n",
       "    </tr>\n",
       "    <tr>\n",
       "      <th>3</th>\n",
       "      <td>3</td>\n",
       "      <td>갈취 대화</td>\n",
       "      <td>어이 거기\\n예??\\n너 말이야 너. 이리 오라고\\n무슨 일.\\n너 옷 좋아보인다?...</td>\n",
       "    </tr>\n",
       "    <tr>\n",
       "      <th>4</th>\n",
       "      <td>4</td>\n",
       "      <td>갈취 대화</td>\n",
       "      <td>저기요 혹시 날이 너무 뜨겁잖아요? 저희 회사에서 이 선크림 파는데 한 번 손등에 ...</td>\n",
       "    </tr>\n",
       "  </tbody>\n",
       "</table>\n",
       "</div>"
      ],
      "text/plain": [
       "   idx      class                                       conversation\n",
       "0    0      협박 대화  지금 너 스스로를 죽여달라고 애원하는 것인가?\\n 아닙니다. 죄송합니다.\\n 죽을 ...\n",
       "1    1      협박 대화  길동경찰서입니다.\\n9시 40분 마트에 폭발물을 설치할거다.\\n네?\\n똑바로 들어 ...\n",
       "2    2  기타 괴롭힘 대화  너 되게 귀여운거 알지? 나보다 작은 남자는 첨봤어.\\n그만해. 니들 놀리는거 재미...\n",
       "3    3      갈취 대화  어이 거기\\n예??\\n너 말이야 너. 이리 오라고\\n무슨 일.\\n너 옷 좋아보인다?...\n",
       "4    4      갈취 대화  저기요 혹시 날이 너무 뜨겁잖아요? 저희 회사에서 이 선크림 파는데 한 번 손등에 ..."
      ]
     },
     "execution_count": 5,
     "metadata": {},
     "output_type": "execute_result"
    }
   ],
   "source": [
    "train_df = pd.read_csv('/home/cho/test/aiffel-dl-thon-dktc-online-12/train.csv')\n",
    "train_df.head()"
   ]
  },
  {
   "cell_type": "code",
   "execution_count": 6,
   "id": "21f465b8",
   "metadata": {},
   "outputs": [
    {
     "data": {
      "text/html": [
       "<div>\n",
       "<style scoped>\n",
       "    .dataframe tbody tr th:only-of-type {\n",
       "        vertical-align: middle;\n",
       "    }\n",
       "\n",
       "    .dataframe tbody tr th {\n",
       "        vertical-align: top;\n",
       "    }\n",
       "\n",
       "    .dataframe thead th {\n",
       "        text-align: right;\n",
       "    }\n",
       "</style>\n",
       "<table border=\"1\" class=\"dataframe\">\n",
       "  <thead>\n",
       "    <tr style=\"text-align: right;\">\n",
       "      <th></th>\n",
       "      <th>idx</th>\n",
       "      <th>class</th>\n",
       "      <th>conversation</th>\n",
       "    </tr>\n",
       "  </thead>\n",
       "  <tbody>\n",
       "    <tr>\n",
       "      <th>0</th>\n",
       "      <td>0</td>\n",
       "      <td>일반 대화</td>\n",
       "      <td>이번에 캘리포니아에 산불 난 거 보셨어요?\\n네 봤어요 ㅜㅜ 일주일 넘게 진압하고 ...</td>\n",
       "    </tr>\n",
       "    <tr>\n",
       "      <th>1</th>\n",
       "      <td>1</td>\n",
       "      <td>일반 대화</td>\n",
       "      <td>얼마 전에 동네 피부 미용샵에 다녀왔어요! 여기 좋더라고요!\\n동네에 그런 곳이 있...</td>\n",
       "    </tr>\n",
       "    <tr>\n",
       "      <th>2</th>\n",
       "      <td>2</td>\n",
       "      <td>일반 대화</td>\n",
       "      <td>코로나 터지고 건강에 더 주의를 기울이게 된 것 같아요\\n인정이요. 위생에도 더 철...</td>\n",
       "    </tr>\n",
       "    <tr>\n",
       "      <th>3</th>\n",
       "      <td>3</td>\n",
       "      <td>일반 대화</td>\n",
       "      <td>요즘 택배가 참 편하긴 한 것 같아요\\n맞아요, 옛날엔 몰랐는데 새벽 배송에 로켓 ...</td>\n",
       "    </tr>\n",
       "    <tr>\n",
       "      <th>4</th>\n",
       "      <td>4</td>\n",
       "      <td>일반 대화</td>\n",
       "      <td>다들 TV프로그램 뭐 보세요?\\n요즘 볼게 없어요\\n전 슬기로운 의사생활 재밌게 봤...</td>\n",
       "    </tr>\n",
       "  </tbody>\n",
       "</table>\n",
       "</div>"
      ],
      "text/plain": [
       "   idx  class                                       conversation\n",
       "0    0  일반 대화  이번에 캘리포니아에 산불 난 거 보셨어요?\\n네 봤어요 ㅜㅜ 일주일 넘게 진압하고 ...\n",
       "1    1  일반 대화  얼마 전에 동네 피부 미용샵에 다녀왔어요! 여기 좋더라고요!\\n동네에 그런 곳이 있...\n",
       "2    2  일반 대화  코로나 터지고 건강에 더 주의를 기울이게 된 것 같아요\\n인정이요. 위생에도 더 철...\n",
       "3    3  일반 대화  요즘 택배가 참 편하긴 한 것 같아요\\n맞아요, 옛날엔 몰랐는데 새벽 배송에 로켓 ...\n",
       "4    4  일반 대화  다들 TV프로그램 뭐 보세요?\\n요즘 볼게 없어요\\n전 슬기로운 의사생활 재밌게 봤..."
      ]
     },
     "execution_count": 6,
     "metadata": {},
     "output_type": "execute_result"
    }
   ],
   "source": [
    "normal_df = pd.read_csv('/home/cho/test/aiffel-dl-thon-dktc-online-12/일반대화 합성데이터(GPT-4o, AIhub 참고).csv')\n",
    "normal_df.head()"
   ]
  },
  {
   "cell_type": "code",
   "execution_count": 7,
   "id": "2bc80543",
   "metadata": {},
   "outputs": [
    {
     "data": {
      "text/html": [
       "<div>\n",
       "<style scoped>\n",
       "    .dataframe tbody tr th:only-of-type {\n",
       "        vertical-align: middle;\n",
       "    }\n",
       "\n",
       "    .dataframe tbody tr th {\n",
       "        vertical-align: top;\n",
       "    }\n",
       "\n",
       "    .dataframe thead th {\n",
       "        text-align: right;\n",
       "    }\n",
       "</style>\n",
       "<table border=\"1\" class=\"dataframe\">\n",
       "  <thead>\n",
       "    <tr style=\"text-align: right;\">\n",
       "      <th></th>\n",
       "      <th>index</th>\n",
       "      <th>class</th>\n",
       "      <th>conversation</th>\n",
       "    </tr>\n",
       "  </thead>\n",
       "  <tbody>\n",
       "    <tr>\n",
       "      <th>0</th>\n",
       "      <td>0</td>\n",
       "      <td>협박 대화</td>\n",
       "      <td>지금 너 스스로를 죽여달라고 애원하는 것인가?\\n 아닙니다. 죄송합니다.\\n 죽을 ...</td>\n",
       "    </tr>\n",
       "    <tr>\n",
       "      <th>1</th>\n",
       "      <td>1</td>\n",
       "      <td>협박 대화</td>\n",
       "      <td>길동경찰서입니다.\\n9시 40분 마트에 폭발물을 설치할거다.\\n네?\\n똑바로 들어 ...</td>\n",
       "    </tr>\n",
       "    <tr>\n",
       "      <th>2</th>\n",
       "      <td>2</td>\n",
       "      <td>기타 괴롭힘 대화</td>\n",
       "      <td>너 되게 귀여운거 알지? 나보다 작은 남자는 첨봤어.\\n그만해. 니들 놀리는거 재미...</td>\n",
       "    </tr>\n",
       "    <tr>\n",
       "      <th>3</th>\n",
       "      <td>3</td>\n",
       "      <td>갈취 대화</td>\n",
       "      <td>어이 거기\\n예??\\n너 말이야 너. 이리 오라고\\n무슨 일.\\n너 옷 좋아보인다?...</td>\n",
       "    </tr>\n",
       "    <tr>\n",
       "      <th>4</th>\n",
       "      <td>4</td>\n",
       "      <td>갈취 대화</td>\n",
       "      <td>저기요 혹시 날이 너무 뜨겁잖아요? 저희 회사에서 이 선크림 파는데 한 번 손등에 ...</td>\n",
       "    </tr>\n",
       "  </tbody>\n",
       "</table>\n",
       "</div>"
      ],
      "text/plain": [
       "   index      class                                       conversation\n",
       "0      0      협박 대화  지금 너 스스로를 죽여달라고 애원하는 것인가?\\n 아닙니다. 죄송합니다.\\n 죽을 ...\n",
       "1      1      협박 대화  길동경찰서입니다.\\n9시 40분 마트에 폭발물을 설치할거다.\\n네?\\n똑바로 들어 ...\n",
       "2      2  기타 괴롭힘 대화  너 되게 귀여운거 알지? 나보다 작은 남자는 첨봤어.\\n그만해. 니들 놀리는거 재미...\n",
       "3      3      갈취 대화  어이 거기\\n예??\\n너 말이야 너. 이리 오라고\\n무슨 일.\\n너 옷 좋아보인다?...\n",
       "4      4      갈취 대화  저기요 혹시 날이 너무 뜨겁잖아요? 저희 회사에서 이 선크림 파는데 한 번 손등에 ..."
      ]
     },
     "execution_count": 7,
     "metadata": {},
     "output_type": "execute_result"
    }
   ],
   "source": [
    "# train data 와 normal 데이터 합치기\n",
    "def concat_train_normal(train_df, normal_df):\n",
    "    train_df = pd.concat([train_df, normal_df], ignore_index=True)\n",
    "    train_df.drop(['idx'], axis=1, inplace=True)\n",
    "    train_df.reset_index(inplace=True)\n",
    "\n",
    "    return train_df\n",
    "\n",
    "train_df = concat_train_normal(train_df, normal_df)\n",
    "train_df.head()"
   ]
  },
  {
   "cell_type": "code",
   "execution_count": 8,
   "id": "fcf6aa95",
   "metadata": {},
   "outputs": [
    {
     "data": {
      "text/html": [
       "<div>\n",
       "<style scoped>\n",
       "    .dataframe tbody tr th:only-of-type {\n",
       "        vertical-align: middle;\n",
       "    }\n",
       "\n",
       "    .dataframe tbody tr th {\n",
       "        vertical-align: top;\n",
       "    }\n",
       "\n",
       "    .dataframe thead th {\n",
       "        text-align: right;\n",
       "    }\n",
       "</style>\n",
       "<table border=\"1\" class=\"dataframe\">\n",
       "  <thead>\n",
       "    <tr style=\"text-align: right;\">\n",
       "      <th></th>\n",
       "      <th>index</th>\n",
       "      <th>class</th>\n",
       "      <th>conversation</th>\n",
       "      <th>class_encoded</th>\n",
       "    </tr>\n",
       "  </thead>\n",
       "  <tbody>\n",
       "    <tr>\n",
       "      <th>0</th>\n",
       "      <td>0</td>\n",
       "      <td>협박 대화</td>\n",
       "      <td>지금 너 스스로를 죽여달라고 애원하는 것인가?\\n 아닙니다. 죄송합니다.\\n 죽을 ...</td>\n",
       "      <td>0</td>\n",
       "    </tr>\n",
       "    <tr>\n",
       "      <th>1</th>\n",
       "      <td>1</td>\n",
       "      <td>협박 대화</td>\n",
       "      <td>길동경찰서입니다.\\n9시 40분 마트에 폭발물을 설치할거다.\\n네?\\n똑바로 들어 ...</td>\n",
       "      <td>0</td>\n",
       "    </tr>\n",
       "    <tr>\n",
       "      <th>2</th>\n",
       "      <td>2</td>\n",
       "      <td>기타 괴롭힘 대화</td>\n",
       "      <td>너 되게 귀여운거 알지? 나보다 작은 남자는 첨봤어.\\n그만해. 니들 놀리는거 재미...</td>\n",
       "      <td>3</td>\n",
       "    </tr>\n",
       "    <tr>\n",
       "      <th>3</th>\n",
       "      <td>3</td>\n",
       "      <td>갈취 대화</td>\n",
       "      <td>어이 거기\\n예??\\n너 말이야 너. 이리 오라고\\n무슨 일.\\n너 옷 좋아보인다?...</td>\n",
       "      <td>1</td>\n",
       "    </tr>\n",
       "    <tr>\n",
       "      <th>4</th>\n",
       "      <td>4</td>\n",
       "      <td>갈취 대화</td>\n",
       "      <td>저기요 혹시 날이 너무 뜨겁잖아요? 저희 회사에서 이 선크림 파는데 한 번 손등에 ...</td>\n",
       "      <td>1</td>\n",
       "    </tr>\n",
       "  </tbody>\n",
       "</table>\n",
       "</div>"
      ],
      "text/plain": [
       "   index      class                                       conversation  \\\n",
       "0      0      협박 대화  지금 너 스스로를 죽여달라고 애원하는 것인가?\\n 아닙니다. 죄송합니다.\\n 죽을 ...   \n",
       "1      1      협박 대화  길동경찰서입니다.\\n9시 40분 마트에 폭발물을 설치할거다.\\n네?\\n똑바로 들어 ...   \n",
       "2      2  기타 괴롭힘 대화  너 되게 귀여운거 알지? 나보다 작은 남자는 첨봤어.\\n그만해. 니들 놀리는거 재미...   \n",
       "3      3      갈취 대화  어이 거기\\n예??\\n너 말이야 너. 이리 오라고\\n무슨 일.\\n너 옷 좋아보인다?...   \n",
       "4      4      갈취 대화  저기요 혹시 날이 너무 뜨겁잖아요? 저희 회사에서 이 선크림 파는데 한 번 손등에 ...   \n",
       "\n",
       "   class_encoded  \n",
       "0              0  \n",
       "1              0  \n",
       "2              3  \n",
       "3              1  \n",
       "4              1  "
      ]
     },
     "execution_count": 8,
     "metadata": {},
     "output_type": "execute_result"
    }
   ],
   "source": [
    "# 클래스 숫자로 변환\n",
    "def class_encoding(train_df, class_mapping):\n",
    "    train_df['class_encoded'] = train_df['class'].replace(class_mapping)\n",
    "    \n",
    "    return train_df\n",
    "\n",
    "# 클래스 매핑 딕셔너리 정의\n",
    "class_mapping = {\n",
    "    \"협박 대화\": 0,\n",
    "    \"갈취 대화\": 1,\n",
    "    \"직장 내 괴롭힘 대화\": 2,\n",
    "    \"기타 괴롭힘 대화\": 3,\n",
    "    \"일반 대화\": 4\n",
    "}\n",
    "\n",
    "train_df = class_encoding(train_df, class_mapping)\n",
    "\n",
    "# 변환된 데이터 확인\n",
    "train_df.head()\n"
   ]
  },
  {
   "cell_type": "code",
   "execution_count": 9,
   "id": "65ddc544",
   "metadata": {},
   "outputs": [
    {
     "name": "stdout",
     "output_type": "stream",
     "text": [
      "중복 제거된 후 데이터 수: 4846\n"
     ]
    }
   ],
   "source": [
    "# 중복된 'conversation' 제거\n",
    "train_df = train_df.drop_duplicates(subset=['conversation'])\n",
    "\n",
    "# 중복 제거 후 데이터 확인\n",
    "print(f\"중복 제거된 후 데이터 수: {train_df.shape[0]}\")"
   ]
  },
  {
   "cell_type": "code",
   "execution_count": 10,
   "id": "4a58a575",
   "metadata": {},
   "outputs": [],
   "source": [
    "train_df = train_df.reset_index(drop=True)"
   ]
  },
  {
   "cell_type": "code",
   "execution_count": 11,
   "id": "e1db53b6",
   "metadata": {},
   "outputs": [],
   "source": [
    "train_df.to_csv('raw_data.csv',index=False)"
   ]
  },
  {
   "cell_type": "code",
   "execution_count": 12,
   "id": "281cd2d9",
   "metadata": {},
   "outputs": [
    {
     "name": "stdout",
     "output_type": "stream",
     "text": [
      "{'class': '직장 내 괴롭힘 대화', 'class_encoded': 2, 'conversation': '회식 갈거지? 오늘 몸이 좀 안 아파 오늘 왜 잘 못해. 한다고 하는데 뜻대로 안되네요. 오늘 회식은 과장님 축하 위한거니 되도록이면 모두 참석 했으면 하는데. 죄송합니다. 그 정도로 될 것 같지 않은데 잠깐이라도 참석해서 더 이상 안나오게 해. 잘 알겠습니다. 사람이 참 융통성이 없어. 죄송합니다.'}\n"
     ]
    }
   ],
   "source": [
    "CLASS = train_df.loc[392,'class']\n",
    "class_encoded = train_df.loc[392,'class_encoded']\n",
    "conversation = train_df.loc[392,'conversation']\n",
    "\n",
    "replaced_text = random_masking_replacement(conversation, ratio)\n",
    "inserted_text = random_masking_insertion(conversation, ratio)\n",
    "\n",
    "new_data_replaced = {'class' : CLASS, \n",
    "            'class_encoded' : class_encoded, \n",
    "            'conversation' : replaced_text\n",
    "           }\n",
    "\n",
    "new_data_inserted = {'class' : CLASS, \n",
    "            'class_encoded' : class_encoded, \n",
    "            'conversation' : inserted_text\n",
    "           }\n",
    "\n",
    "print(new_data_replaced)"
   ]
  },
  {
   "cell_type": "code",
   "execution_count": null,
   "id": "1e884c49",
   "metadata": {},
   "outputs": [],
   "source": [
    "import pandas as pd\n",
    "\n",
    "# 결과 저장을 위한 리스트\n",
    "replaced_text_data = []\n",
    "inserted_text_data = []\n",
    "\n",
    "# 비율 설정\n",
    "ratio = 0.15\n",
    "\n",
    "# 모든 행에 대해 데이터 변환 수행\n",
    "for i in range(len(train_df)):\n",
    "    try:\n",
    "        cls = train_df.loc[i, 'class']\n",
    "        class_encoded = train_df.loc[i, 'class_encoded']\n",
    "        conversation = train_df.loc[i, 'conversation']\n",
    "        \n",
    "        replaced_text = random_masking_replacement(conversation, ratio)\n",
    "        inserted_text = random_masking_insertion(conversation, ratio)\n",
    "        \n",
    "        # 변형된 데이터 추가\n",
    "        replaced_text_data.append({'class': cls, 'class_encoded': class_encoded, 'conversation': replaced_text})\n",
    "        inserted_text_data.append({'class': cls, 'class_encoded': class_encoded, 'conversation': inserted_text})\n",
    "    \n",
    "    except Exception as e:\n",
    "        print(f\"Error at index {i}: {e}\")\n",
    "        continue  # 오류 발생 시 해당 인덱스를 건너뛰고 다음으로 진행\n",
    "\n",
    "# 변형된 데이터를 DataFrame으로 변환\n",
    "augmented_replaced_text_data = pd.DataFrame(replaced_text_data)\n",
    "augmented_inserted_text_data = pd.DataFrame(inserted_text_data)\n",
    "\n",
    "augmented_replaced_text_data.head()"
   ]
  },
  {
   "cell_type": "markdown",
   "id": "c079b51c-400b-4773-a84b-cfc1219146a9",
   "metadata": {},
   "source": [
    "## Adverb augmentation"
   ]
  },
  {
   "cell_type": "code",
   "execution_count": null,
   "id": "240f6edc",
   "metadata": {},
   "outputs": [],
   "source": [
    "from quickspacer import Spacer\n",
    "spacer = Spacer()\n",
    "spacer.space(['생각할겨를도없이빨리'])"
   ]
  },
  {
   "cell_type": "code",
   "execution_count": 5,
   "id": "802c3abd-ed68-4a3d-a1c9-a4401da7fbb5",
   "metadata": {},
   "outputs": [],
   "source": [
    "sentence = \"아버지가 부엌에 있었다가 갑자기 일어나시더니 슬그머니 안방으로 들어가셨다.\""
   ]
  },
  {
   "cell_type": "code",
   "execution_count": null,
   "id": "bd28e530-228c-4598-b2aa-23d6dc74beb3",
   "metadata": {},
   "outputs": [],
   "source": [
    "adverb_gloss_replacement(sentence)"
   ]
  },
  {
   "cell_type": "code",
   "execution_count": null,
   "id": "e33b100e",
   "metadata": {},
   "outputs": [],
   "source": []
  },
  {
   "cell_type": "markdown",
   "id": "04527424-83ab-453c-816d-81b015ae3f94",
   "metadata": {},
   "source": [
    "## 기존 EDA 방법 (KorEDA)\n",
    "- random_delete\n",
    "- random_swap\n",
    "- synonym_replacement\n",
    "- random_insert"
   ]
  },
  {
   "cell_type": "code",
   "execution_count": 8,
   "id": "dbfa8c99-c85f-44b2-8433-e0b0a88a4f30",
   "metadata": {},
   "outputs": [],
   "source": [
    "from utils.koreda import synonym_replacement, random_deletion, random_swap, random_insertion"
   ]
  },
  {
   "cell_type": "code",
   "execution_count": 9,
   "id": "d12240c6-73e9-4f98-89f3-e30224468d7c",
   "metadata": {},
   "outputs": [],
   "source": [
    "sentence = \"이순신은 조선 중기의 매우 뛰어난 전략가이자 용맹한 무신이다.\""
   ]
  },
  {
   "cell_type": "code",
   "execution_count": null,
   "id": "793ff40c-cb1f-45a4-8bac-caaaa49cf77f",
   "metadata": {},
   "outputs": [],
   "source": [
    "print('synonym_replacement: ', \" \".join(synonym_replacement(sentence.split(), 1)))\n",
    "print('random_deletion: ', \" \".join(random_deletion(sentence.split(), 0.15)))\n",
    "print('random_swap: ', \" \".join(random_swap(sentence.split(), 1)))\n",
    "print('random_insertion: ', \" \".join(random_insertion(sentence.split(), 1)))"
   ]
  },
  {
   "cell_type": "markdown",
   "id": "1a6c97ad-d568-43e6-a092-869b7b00dc79",
   "metadata": {},
   "source": [
    "## AEDA"
   ]
  },
  {
   "cell_type": "code",
   "execution_count": 11,
   "id": "aabe5ef2-4e37-481b-ab85-3a3856d638b3",
   "metadata": {},
   "outputs": [],
   "source": [
    "from utils.aeda import aeda"
   ]
  },
  {
   "cell_type": "code",
   "execution_count": 12,
   "id": "e0a80bbf-6105-4b0a-bc5d-ec903e33bc1d",
   "metadata": {},
   "outputs": [],
   "source": [
    "sentence = \"이순신은 조선 중기의 매우 뛰어난 전략가이자 용맹한 무신이다.\""
   ]
  },
  {
   "cell_type": "code",
   "execution_count": null,
   "id": "83a05672-0e90-4de2-8f51-dbf4ed17c8be",
   "metadata": {},
   "outputs": [],
   "source": [
    "print('aeda: ', aeda(sentence))"
   ]
  },
  {
   "cell_type": "markdown",
   "id": "2abec7f9",
   "metadata": {},
   "source": [
    "# Gemini 1.5 flash"
   ]
  },
  {
   "cell_type": "code",
   "execution_count": 1,
   "id": "62dbf6a4",
   "metadata": {},
   "outputs": [
    {
     "name": "stderr",
     "output_type": "stream",
     "text": [
      "/home/bs/anaconda3/envs/ktacc/lib/python3.11/site-packages/tqdm/auto.py:21: TqdmWarning: IProgress not found. Please update jupyter and ipywidgets. See https://ipywidgets.readthedocs.io/en/stable/user_install.html\n",
      "  from .autonotebook import tqdm as notebook_tqdm\n"
     ]
    }
   ],
   "source": [
    "from utils.LLM_augmentation import LlmAugmentation"
   ]
  },
  {
   "cell_type": "code",
   "execution_count": 2,
   "id": "7fcdc46f",
   "metadata": {},
   "outputs": [],
   "source": [
    "llm_aug = LlmAugmentation()"
   ]
  },
  {
   "cell_type": "code",
   "execution_count": 3,
   "id": "d5623274",
   "metadata": {},
   "outputs": [],
   "source": [
    "sentences = \\\n",
    "[\n",
    "    \"이순신은 조선 중기의 매우 뛰어난 전략가이자 용맹한 무신이다.\",\n",
    "    \"하늘을 우러러 한 점 부끄럼 없기를\",\n",
    "    \"꽁꽁 얼어붙은 한강 위로 고양이가 걸어다닙니다\",\n",
    "    \"암세포도 생명이야...!\",\n",
    "    \"겨울은 강철로 된 무지개인가 보다.\",\n",
    "    \"나랑 별 보러 가지 않을래?\",\n",
    "    \"피할 수 없다면 즐겨라.\",\n",
    "    \"인생은 멀리서 보면 희극, 가까이서 보면 비극\",\n",
    "    \"그래도 지구는 돈다.\",\n",
    "    \"하루하루는 열심히 인생은 대충대충\",\n",
    "    \"고딩 친구 = 평생 친구\",\n",
    "    \"롤 한판 하쉴?\",\n",
    "    \"365에 13을 더하면?\",\n",
    "    \"1995년 12월 23일은 철수의 생일이다.\"\n",
    "]\n",
    "\n",
    "paraphrased_sentences = llm_aug.generate_paraphrased_sentence(sentences)"
   ]
  },
  {
   "cell_type": "code",
   "execution_count": 4,
   "id": "9c5825d8",
   "metadata": {},
   "outputs": [
    {
     "data": {
      "text/plain": [
       "['이순신 장군은 조선 중기 최고의 전략가이자 용맹한 무장으로 손꼽힌다.',\n",
       " '하늘에 부끄러울 일이 없도록 살자.',\n",
       " '꽁꽁 언 한강 위를 고양이가 걸어 다니는 진풍경이 펼쳐진다.',\n",
       " '암세포도 생명의 한 형태이다.',\n",
       " '겨울은 마치 강철로 만든 무지개처럼 차가운 아름다움을 지닌다.',\n",
       " '함께 밤하늘의 별을 보러 가지 않겠어?',\n",
       " '피할 수 없다면 즐겁게 받아들이자.',\n",
       " '인생은 멀리서 보면 희극처럼 보이지만, 가까이서 보면 비극처럼 느껴진다.',\n",
       " '그래도 지구는 끊임없이 자전하고 있다.',\n",
       " '하루하루는 최선을 다하고, 인생은 좀 느긋하게 살자.',\n",
       " '고등학교 친구는 평생을 함께하는 소중한 인연이다.',\n",
       " '롤 한 게임 같이 할래?',\n",
       " '365에 13을 더하면 378이 됩니다.',\n",
       " '철수의 생일은 1995년 12월 23일이다.']"
      ]
     },
     "execution_count": 4,
     "metadata": {},
     "output_type": "execute_result"
    }
   ],
   "source": [
    "paraphrased_sentences"
   ]
  }
 ],
 "metadata": {
  "kernelspec": {
   "display_name": "augmen",
   "language": "python",
   "name": "python3"
  },
  "language_info": {
   "codemirror_mode": {
    "name": "ipython",
    "version": 3
   },
   "file_extension": ".py",
   "mimetype": "text/x-python",
   "name": "python",
   "nbconvert_exporter": "python",
   "pygments_lexer": "ipython3",
   "version": "3.8.20"
  }
 },
 "nbformat": 4,
 "nbformat_minor": 5
}
